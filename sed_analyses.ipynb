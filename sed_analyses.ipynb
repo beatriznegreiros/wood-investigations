{
 "cells": [
  {
   "cell_type": "markdown",
   "metadata": {},
   "source": [
    "# Investigation on the effects of wood log on the streambed of a nature-based fish bypass in Ering, Germany."
   ]
  },
  {
   "cell_type": "code",
   "execution_count": 8,
   "metadata": {},
   "outputs": [
    {
     "data": {
      "text/html": [
       "        <script type=\"text/javascript\">\n",
       "        window.PlotlyConfig = {MathJaxConfig: 'local'};\n",
       "        if (window.MathJax) {MathJax.Hub.Config({SVG: {font: \"STIX-Web\"}});}\n",
       "        if (typeof require !== 'undefined') {\n",
       "        require.undef(\"plotly\");\n",
       "        requirejs.config({\n",
       "            paths: {\n",
       "                'plotly': ['https://cdn.plot.ly/plotly-2.9.0.min']\n",
       "            }\n",
       "        });\n",
       "        require(['plotly'], function(Plotly) {\n",
       "            window._Plotly = Plotly;\n",
       "        });\n",
       "        }\n",
       "        </script>\n",
       "        "
      ]
     },
     "metadata": {},
     "output_type": "display_data"
    }
   ],
   "source": [
    "from config import *\n",
    "from plotly.offline import init_notebook_mode\n",
    "init_notebook_mode(connected = True)\n",
    "import seaborn as sns\n",
    "import matplotlib.pyplot as plt"
   ]
  },
  {
   "cell_type": "code",
   "execution_count": 27,
   "metadata": {},
   "outputs": [],
   "source": [
    "df = pd.read_csv('overall_statistics_bn_compact.csv')"
   ]
  },
  {
   "cell_type": "code",
   "execution_count": 6,
   "metadata": {},
   "outputs": [
    {
     "data": {
      "text/html": [
       "<div>\n",
       "<style scoped>\n",
       "    .dataframe tbody tr th:only-of-type {\n",
       "        vertical-align: middle;\n",
       "    }\n",
       "\n",
       "    .dataframe tbody tr th {\n",
       "        vertical-align: top;\n",
       "    }\n",
       "\n",
       "    .dataframe thead th {\n",
       "        text-align: right;\n",
       "    }\n",
       "</style>\n",
       "<table border=\"1\" class=\"dataframe\">\n",
       "  <thead>\n",
       "    <tr style=\"text-align: right;\">\n",
       "      <th></th>\n",
       "      <th>sample name</th>\n",
       "      <th>Campaign</th>\n",
       "      <th>Location</th>\n",
       "      <th>up or downstream</th>\n",
       "      <th>Sample</th>\n",
       "      <th>date</th>\n",
       "      <th>lat</th>\n",
       "      <th>lon</th>\n",
       "      <th>d10</th>\n",
       "      <th>d16</th>\n",
       "      <th>...</th>\n",
       "      <th>4</th>\n",
       "      <th>2</th>\n",
       "      <th>1</th>\n",
       "      <th>0.5</th>\n",
       "      <th>0.25</th>\n",
       "      <th>0.125</th>\n",
       "      <th>0.063</th>\n",
       "      <th>0.031</th>\n",
       "      <th>0.0039</th>\n",
       "      <th>6.00E-05</th>\n",
       "    </tr>\n",
       "  </thead>\n",
       "  <tbody>\n",
       "    <tr>\n",
       "      <th>0</th>\n",
       "      <td>FP-A AFTER</td>\n",
       "      <td>After</td>\n",
       "      <td>A</td>\n",
       "      <td>NaN</td>\n",
       "      <td>FP</td>\n",
       "      <td>09.02.2022</td>\n",
       "      <td>6155287.856</td>\n",
       "      <td>1464299.602</td>\n",
       "      <td>1.071429</td>\n",
       "      <td>4.110721</td>\n",
       "      <td>...</td>\n",
       "      <td>15.678733</td>\n",
       "      <td>11.764706</td>\n",
       "      <td>9.864253</td>\n",
       "      <td>9.027149</td>\n",
       "      <td>4.230769</td>\n",
       "      <td>1.470588</td>\n",
       "      <td>0.610860</td>\n",
       "      <td>0</td>\n",
       "      <td>0</td>\n",
       "      <td>0</td>\n",
       "    </tr>\n",
       "    <tr>\n",
       "      <th>1</th>\n",
       "      <td>FP-A BEFORE</td>\n",
       "      <td>Before</td>\n",
       "      <td>A</td>\n",
       "      <td>NaN</td>\n",
       "      <td>FP</td>\n",
       "      <td>02.02.2022</td>\n",
       "      <td>6155287.881</td>\n",
       "      <td>1464298.541</td>\n",
       "      <td>0.390109</td>\n",
       "      <td>1.266286</td>\n",
       "      <td>...</td>\n",
       "      <td>23.483933</td>\n",
       "      <td>20.343078</td>\n",
       "      <td>14.423774</td>\n",
       "      <td>12.442619</td>\n",
       "      <td>6.885721</td>\n",
       "      <td>3.624064</td>\n",
       "      <td>1.522107</td>\n",
       "      <td>0</td>\n",
       "      <td>0</td>\n",
       "      <td>0</td>\n",
       "    </tr>\n",
       "    <tr>\n",
       "      <th>2</th>\n",
       "      <td>FP-B AFTER</td>\n",
       "      <td>After</td>\n",
       "      <td>B</td>\n",
       "      <td>NaN</td>\n",
       "      <td>FP</td>\n",
       "      <td>09.02.2022</td>\n",
       "      <td>6155356.345</td>\n",
       "      <td>1464361.145</td>\n",
       "      <td>0.305014</td>\n",
       "      <td>0.392511</td>\n",
       "      <td>...</td>\n",
       "      <td>38.086078</td>\n",
       "      <td>31.113248</td>\n",
       "      <td>25.222409</td>\n",
       "      <td>23.371003</td>\n",
       "      <td>6.227459</td>\n",
       "      <td>1.202212</td>\n",
       "      <td>0.312575</td>\n",
       "      <td>0</td>\n",
       "      <td>0</td>\n",
       "      <td>0</td>\n",
       "    </tr>\n",
       "    <tr>\n",
       "      <th>3</th>\n",
       "      <td>FP-B BEFORE</td>\n",
       "      <td>Before</td>\n",
       "      <td>B</td>\n",
       "      <td>NaN</td>\n",
       "      <td>FP</td>\n",
       "      <td>02.02.2022</td>\n",
       "      <td>6155354.552</td>\n",
       "      <td>1464362.584</td>\n",
       "      <td>0.339377</td>\n",
       "      <td>0.479267</td>\n",
       "      <td>...</td>\n",
       "      <td>28.260016</td>\n",
       "      <td>25.589159</td>\n",
       "      <td>19.520817</td>\n",
       "      <td>16.889238</td>\n",
       "      <td>6.166536</td>\n",
       "      <td>3.024352</td>\n",
       "      <td>1.197958</td>\n",
       "      <td>0</td>\n",
       "      <td>0</td>\n",
       "      <td>0</td>\n",
       "    </tr>\n",
       "    <tr>\n",
       "      <th>4</th>\n",
       "      <td>FP-RP BEFORE</td>\n",
       "      <td>Before</td>\n",
       "      <td>RP</td>\n",
       "      <td>NaN</td>\n",
       "      <td>FP</td>\n",
       "      <td>31.01.2022</td>\n",
       "      <td>6155210.932</td>\n",
       "      <td>1464118.075</td>\n",
       "      <td>0.489188</td>\n",
       "      <td>1.081053</td>\n",
       "      <td>...</td>\n",
       "      <td>31.436348</td>\n",
       "      <td>22.912285</td>\n",
       "      <td>15.390325</td>\n",
       "      <td>10.293208</td>\n",
       "      <td>3.513547</td>\n",
       "      <td>1.905233</td>\n",
       "      <td>0.754670</td>\n",
       "      <td>0</td>\n",
       "      <td>0</td>\n",
       "      <td>0</td>\n",
       "    </tr>\n",
       "    <tr>\n",
       "      <th>5</th>\n",
       "      <td>FP-RP AFTER</td>\n",
       "      <td>After</td>\n",
       "      <td>RP</td>\n",
       "      <td>NaN</td>\n",
       "      <td>FP</td>\n",
       "      <td>07.02.2022</td>\n",
       "      <td>6155205.685</td>\n",
       "      <td>1464114.238</td>\n",
       "      <td>0.750980</td>\n",
       "      <td>1.525463</td>\n",
       "      <td>...</td>\n",
       "      <td>25.429711</td>\n",
       "      <td>19.306323</td>\n",
       "      <td>12.338858</td>\n",
       "      <td>7.642726</td>\n",
       "      <td>1.995089</td>\n",
       "      <td>0.951504</td>\n",
       "      <td>0.368324</td>\n",
       "      <td>0</td>\n",
       "      <td>0</td>\n",
       "      <td>0</td>\n",
       "    </tr>\n",
       "    <tr>\n",
       "      <th>6</th>\n",
       "      <td>FC-B1 BEFORE</td>\n",
       "      <td>Before</td>\n",
       "      <td>B</td>\n",
       "      <td>upstream</td>\n",
       "      <td>FC</td>\n",
       "      <td>01.02.2022</td>\n",
       "      <td>6155346.993</td>\n",
       "      <td>1464364.280</td>\n",
       "      <td>0.429156</td>\n",
       "      <td>2.092964</td>\n",
       "      <td>...</td>\n",
       "      <td>20.338069</td>\n",
       "      <td>15.788527</td>\n",
       "      <td>13.648624</td>\n",
       "      <td>12.084158</td>\n",
       "      <td>4.729365</td>\n",
       "      <td>1.366661</td>\n",
       "      <td>0.521489</td>\n",
       "      <td>0</td>\n",
       "      <td>0</td>\n",
       "      <td>0</td>\n",
       "    </tr>\n",
       "    <tr>\n",
       "      <th>7</th>\n",
       "      <td>FC-B2 AFTER</td>\n",
       "      <td>After</td>\n",
       "      <td>B</td>\n",
       "      <td>downstream</td>\n",
       "      <td>FC</td>\n",
       "      <td>08.02.2022</td>\n",
       "      <td>6155354.290</td>\n",
       "      <td>1464362.121</td>\n",
       "      <td>0.349231</td>\n",
       "      <td>0.481462</td>\n",
       "      <td>...</td>\n",
       "      <td>23.080279</td>\n",
       "      <td>19.655323</td>\n",
       "      <td>18.084642</td>\n",
       "      <td>16.841187</td>\n",
       "      <td>5.497382</td>\n",
       "      <td>1.679756</td>\n",
       "      <td>0.676265</td>\n",
       "      <td>0</td>\n",
       "      <td>0</td>\n",
       "      <td>0</td>\n",
       "    </tr>\n",
       "    <tr>\n",
       "      <th>8</th>\n",
       "      <td>FC-B2 BEFORE</td>\n",
       "      <td>Before</td>\n",
       "      <td>B</td>\n",
       "      <td>downstream</td>\n",
       "      <td>FC</td>\n",
       "      <td>01.02.2022</td>\n",
       "      <td>6155353.451</td>\n",
       "      <td>1464362.749</td>\n",
       "      <td>0.350768</td>\n",
       "      <td>0.840204</td>\n",
       "      <td>...</td>\n",
       "      <td>23.406516</td>\n",
       "      <td>18.679178</td>\n",
       "      <td>16.554533</td>\n",
       "      <td>14.819405</td>\n",
       "      <td>6.745751</td>\n",
       "      <td>2.213173</td>\n",
       "      <td>0.938385</td>\n",
       "      <td>0</td>\n",
       "      <td>0</td>\n",
       "      <td>0</td>\n",
       "    </tr>\n",
       "    <tr>\n",
       "      <th>9</th>\n",
       "      <td>FC-RP BEFORE</td>\n",
       "      <td>Before</td>\n",
       "      <td>RP</td>\n",
       "      <td>NaN</td>\n",
       "      <td>FC</td>\n",
       "      <td>01.02.2022</td>\n",
       "      <td>6155209.526</td>\n",
       "      <td>1464116.977</td>\n",
       "      <td>0.409416</td>\n",
       "      <td>0.796388</td>\n",
       "      <td>...</td>\n",
       "      <td>30.648550</td>\n",
       "      <td>29.317832</td>\n",
       "      <td>17.705561</td>\n",
       "      <td>13.517299</td>\n",
       "      <td>3.810057</td>\n",
       "      <td>0.938507</td>\n",
       "      <td>0.420227</td>\n",
       "      <td>0</td>\n",
       "      <td>0</td>\n",
       "      <td>0</td>\n",
       "    </tr>\n",
       "    <tr>\n",
       "      <th>10</th>\n",
       "      <td>FC-RP AFTER</td>\n",
       "      <td>After</td>\n",
       "      <td>RP</td>\n",
       "      <td>NaN</td>\n",
       "      <td>FC</td>\n",
       "      <td>08.02.2022</td>\n",
       "      <td>6155204.529</td>\n",
       "      <td>1464113.713</td>\n",
       "      <td>0.355104</td>\n",
       "      <td>0.487848</td>\n",
       "      <td>...</td>\n",
       "      <td>29.382511</td>\n",
       "      <td>22.668877</td>\n",
       "      <td>19.491642</td>\n",
       "      <td>16.549247</td>\n",
       "      <td>5.249344</td>\n",
       "      <td>1.215638</td>\n",
       "      <td>0.524934</td>\n",
       "      <td>0</td>\n",
       "      <td>0</td>\n",
       "      <td>0</td>\n",
       "    </tr>\n",
       "    <tr>\n",
       "      <th>11</th>\n",
       "      <td>FC-A1 BEFORE</td>\n",
       "      <td>Before</td>\n",
       "      <td>A</td>\n",
       "      <td>upstream</td>\n",
       "      <td>FC</td>\n",
       "      <td>01.02.2022</td>\n",
       "      <td>6155287.977</td>\n",
       "      <td>1464290.925</td>\n",
       "      <td>0.137799</td>\n",
       "      <td>0.211962</td>\n",
       "      <td>...</td>\n",
       "      <td>36.099919</td>\n",
       "      <td>31.970185</td>\n",
       "      <td>29.754230</td>\n",
       "      <td>26.732474</td>\n",
       "      <td>19.077357</td>\n",
       "      <td>8.964545</td>\n",
       "      <td>3.565673</td>\n",
       "      <td>0</td>\n",
       "      <td>0</td>\n",
       "      <td>0</td>\n",
       "    </tr>\n",
       "    <tr>\n",
       "      <th>12</th>\n",
       "      <td>FC-A2 BEFORE</td>\n",
       "      <td>Before</td>\n",
       "      <td>A</td>\n",
       "      <td>downstream</td>\n",
       "      <td>FC</td>\n",
       "      <td>01.02.2022</td>\n",
       "      <td>6155287.829</td>\n",
       "      <td>1464297.447</td>\n",
       "      <td>0.124430</td>\n",
       "      <td>0.190572</td>\n",
       "      <td>...</td>\n",
       "      <td>41.414687</td>\n",
       "      <td>37.185025</td>\n",
       "      <td>34.539237</td>\n",
       "      <td>31.641469</td>\n",
       "      <td>21.382289</td>\n",
       "      <td>10.061195</td>\n",
       "      <td>3.401728</td>\n",
       "      <td>0</td>\n",
       "      <td>0</td>\n",
       "      <td>0</td>\n",
       "    </tr>\n",
       "    <tr>\n",
       "      <th>13</th>\n",
       "      <td>FC-B1 AFTER</td>\n",
       "      <td>After</td>\n",
       "      <td>B</td>\n",
       "      <td>upstream</td>\n",
       "      <td>FC</td>\n",
       "      <td>08.02.2022</td>\n",
       "      <td>6155347.502</td>\n",
       "      <td>1464364.217</td>\n",
       "      <td>0.432173</td>\n",
       "      <td>1.852903</td>\n",
       "      <td>...</td>\n",
       "      <td>21.270372</td>\n",
       "      <td>16.381112</td>\n",
       "      <td>13.790221</td>\n",
       "      <td>12.035102</td>\n",
       "      <td>4.534058</td>\n",
       "      <td>1.567071</td>\n",
       "      <td>0.689511</td>\n",
       "      <td>0</td>\n",
       "      <td>0</td>\n",
       "      <td>0</td>\n",
       "    </tr>\n",
       "    <tr>\n",
       "      <th>14</th>\n",
       "      <td>FC-A1 AFTER</td>\n",
       "      <td>After</td>\n",
       "      <td>A</td>\n",
       "      <td>upstream</td>\n",
       "      <td>FC</td>\n",
       "      <td>08.02.2022</td>\n",
       "      <td>6155287.388</td>\n",
       "      <td>1464290.071</td>\n",
       "      <td>0.240946</td>\n",
       "      <td>0.403214</td>\n",
       "      <td>...</td>\n",
       "      <td>29.213688</td>\n",
       "      <td>24.317437</td>\n",
       "      <td>21.951220</td>\n",
       "      <td>19.530397</td>\n",
       "      <td>10.411358</td>\n",
       "      <td>4.732435</td>\n",
       "      <td>1.801966</td>\n",
       "      <td>0</td>\n",
       "      <td>0</td>\n",
       "      <td>0</td>\n",
       "    </tr>\n",
       "    <tr>\n",
       "      <th>15</th>\n",
       "      <td>FC-A2 AFTER</td>\n",
       "      <td>After</td>\n",
       "      <td>A</td>\n",
       "      <td>downstream</td>\n",
       "      <td>FC</td>\n",
       "      <td>08.02.2022</td>\n",
       "      <td>6155288.023</td>\n",
       "      <td>1464298.002</td>\n",
       "      <td>0.124554</td>\n",
       "      <td>0.211574</td>\n",
       "      <td>...</td>\n",
       "      <td>37.743042</td>\n",
       "      <td>32.844072</td>\n",
       "      <td>30.175372</td>\n",
       "      <td>27.258864</td>\n",
       "      <td>18.642775</td>\n",
       "      <td>10.045749</td>\n",
       "      <td>3.678994</td>\n",
       "      <td>0</td>\n",
       "      <td>0</td>\n",
       "      <td>0</td>\n",
       "    </tr>\n",
       "  </tbody>\n",
       "</table>\n",
       "<p>16 rows × 51 columns</p>\n",
       "</div>"
      ],
      "text/plain": [
       "     sample name Campaign Location up or downstream Sample        date  \\\n",
       "0     FP-A AFTER    After        A              NaN     FP  09.02.2022   \n",
       "1    FP-A BEFORE   Before        A              NaN     FP  02.02.2022   \n",
       "2     FP-B AFTER    After        B              NaN     FP  09.02.2022   \n",
       "3    FP-B BEFORE   Before        B              NaN     FP  02.02.2022   \n",
       "4   FP-RP BEFORE   Before       RP              NaN     FP  31.01.2022   \n",
       "5    FP-RP AFTER    After       RP              NaN     FP  07.02.2022   \n",
       "6   FC-B1 BEFORE   Before        B         upstream     FC  01.02.2022   \n",
       "7    FC-B2 AFTER    After        B       downstream     FC  08.02.2022   \n",
       "8   FC-B2 BEFORE   Before        B       downstream     FC  01.02.2022   \n",
       "9   FC-RP BEFORE   Before       RP              NaN     FC  01.02.2022   \n",
       "10   FC-RP AFTER    After       RP              NaN     FC  08.02.2022   \n",
       "11  FC-A1 BEFORE   Before        A         upstream     FC  01.02.2022   \n",
       "12  FC-A2 BEFORE   Before        A       downstream     FC  01.02.2022   \n",
       "13   FC-B1 AFTER    After        B         upstream     FC  08.02.2022   \n",
       "14   FC-A1 AFTER    After        A         upstream     FC  08.02.2022   \n",
       "15   FC-A2 AFTER    After        A       downstream     FC  08.02.2022   \n",
       "\n",
       "            lat          lon       d10       d16  ...          4          2  \\\n",
       "0   6155287.856  1464299.602  1.071429  4.110721  ...  15.678733  11.764706   \n",
       "1   6155287.881  1464298.541  0.390109  1.266286  ...  23.483933  20.343078   \n",
       "2   6155356.345  1464361.145  0.305014  0.392511  ...  38.086078  31.113248   \n",
       "3   6155354.552  1464362.584  0.339377  0.479267  ...  28.260016  25.589159   \n",
       "4   6155210.932  1464118.075  0.489188  1.081053  ...  31.436348  22.912285   \n",
       "5   6155205.685  1464114.238  0.750980  1.525463  ...  25.429711  19.306323   \n",
       "6   6155346.993  1464364.280  0.429156  2.092964  ...  20.338069  15.788527   \n",
       "7   6155354.290  1464362.121  0.349231  0.481462  ...  23.080279  19.655323   \n",
       "8   6155353.451  1464362.749  0.350768  0.840204  ...  23.406516  18.679178   \n",
       "9   6155209.526  1464116.977  0.409416  0.796388  ...  30.648550  29.317832   \n",
       "10  6155204.529  1464113.713  0.355104  0.487848  ...  29.382511  22.668877   \n",
       "11  6155287.977  1464290.925  0.137799  0.211962  ...  36.099919  31.970185   \n",
       "12  6155287.829  1464297.447  0.124430  0.190572  ...  41.414687  37.185025   \n",
       "13  6155347.502  1464364.217  0.432173  1.852903  ...  21.270372  16.381112   \n",
       "14  6155287.388  1464290.071  0.240946  0.403214  ...  29.213688  24.317437   \n",
       "15  6155288.023  1464298.002  0.124554  0.211574  ...  37.743042  32.844072   \n",
       "\n",
       "            1        0.5       0.25      0.125     0.063  0.031  0.0039  \\\n",
       "0    9.864253   9.027149   4.230769   1.470588  0.610860      0       0   \n",
       "1   14.423774  12.442619   6.885721   3.624064  1.522107      0       0   \n",
       "2   25.222409  23.371003   6.227459   1.202212  0.312575      0       0   \n",
       "3   19.520817  16.889238   6.166536   3.024352  1.197958      0       0   \n",
       "4   15.390325  10.293208   3.513547   1.905233  0.754670      0       0   \n",
       "5   12.338858   7.642726   1.995089   0.951504  0.368324      0       0   \n",
       "6   13.648624  12.084158   4.729365   1.366661  0.521489      0       0   \n",
       "7   18.084642  16.841187   5.497382   1.679756  0.676265      0       0   \n",
       "8   16.554533  14.819405   6.745751   2.213173  0.938385      0       0   \n",
       "9   17.705561  13.517299   3.810057   0.938507  0.420227      0       0   \n",
       "10  19.491642  16.549247   5.249344   1.215638  0.524934      0       0   \n",
       "11  29.754230  26.732474  19.077357   8.964545  3.565673      0       0   \n",
       "12  34.539237  31.641469  21.382289  10.061195  3.401728      0       0   \n",
       "13  13.790221  12.035102   4.534058   1.567071  0.689511      0       0   \n",
       "14  21.951220  19.530397  10.411358   4.732435  1.801966      0       0   \n",
       "15  30.175372  27.258864  18.642775  10.045749  3.678994      0       0   \n",
       "\n",
       "    6.00E-05  \n",
       "0          0  \n",
       "1          0  \n",
       "2          0  \n",
       "3          0  \n",
       "4          0  \n",
       "5          0  \n",
       "6          0  \n",
       "7          0  \n",
       "8          0  \n",
       "9          0  \n",
       "10         0  \n",
       "11         0  \n",
       "12         0  \n",
       "13         0  \n",
       "14         0  \n",
       "15         0  \n",
       "\n",
       "[16 rows x 51 columns]"
      ]
     },
     "execution_count": 6,
     "metadata": {},
     "output_type": "execute_result"
    }
   ],
   "source": [
    "df"
   ]
  },
  {
   "cell_type": "code",
   "execution_count": 5,
   "metadata": {},
   "outputs": [
    {
     "data": {
      "application/vnd.plotly.v1+json": {
       "config": {
        "plotlyServerURL": "https://plot.ly"
       },
       "data": [
        {
         "customdata": [
          [
           "FP-A AFTER"
          ],
          [
           "FP-B AFTER"
          ],
          [
           "FP-RP AFTER"
          ],
          [
           "FC-B2 AFTER"
          ],
          [
           "FC-RP AFTER"
          ],
          [
           "FC-B1 AFTER"
          ],
          [
           "FC-A1 AFTER"
          ],
          [
           "FC-A2 AFTER"
          ]
         ],
         "hovertemplate": "Campaign=After<br>Wooster et al. (2008) [Porosity]=%{x}<br>2=%{y}<br>sample name=%{customdata[0]}<extra></extra>",
         "legendgroup": "After",
         "marker": {
          "color": "#636efa",
          "symbol": "circle"
         },
         "mode": "markers",
         "name": "After",
         "orientation": "v",
         "showlegend": true,
         "type": "scatter",
         "x": [
          0.215494971,
          0.209803155,
          0.217748484,
          0.189986418,
          0.197577875,
          0.211044117,
          0.159179467,
          0.150062295
         ],
         "xaxis": "x",
         "y": [
          11.76470588,
          31.11324838,
          19.3063229,
          19.65532286,
          22.66887692,
          16.38111158,
          24.3174372,
          32.84407167
         ],
         "yaxis": "y"
        },
        {
         "customdata": [
          [
           "FP-A BEFORE"
          ],
          [
           "FP-B BEFORE"
          ],
          [
           "FP-RP BEFORE"
          ],
          [
           "FC-B1 BEFORE"
          ],
          [
           "FC-B2 BEFORE"
          ],
          [
           "FC-RP BEFORE"
          ],
          [
           "FC-A1 BEFORE"
          ],
          [
           "FC-A2 BEFORE"
          ]
         ],
         "hovertemplate": "Campaign=Before<br>Wooster et al. (2008) [Porosity]=%{x}<br>2=%{y}<br>sample name=%{customdata[0]}<extra></extra>",
         "legendgroup": "Before",
         "marker": {
          "color": "#EF553B",
          "symbol": "circle"
         },
         "mode": "markers",
         "name": "Before",
         "orientation": "v",
         "showlegend": true,
         "type": "scatter",
         "x": [
          0.184366262,
          0.182173833,
          0.205268521,
          0.199392242,
          0.195214063,
          0.20736887,
          0.142106779,
          0.141619999
         ],
         "xaxis": "x",
         "y": [
          20.34307804,
          25.58915947,
          22.91228504,
          15.78852724,
          18.67917847,
          29.31783163,
          31.97018533,
          37.1850252
         ],
         "yaxis": "y"
        }
       ],
       "layout": {
        "legend": {
         "title": {
          "text": "Campaign"
         },
         "tracegroupgap": 0
        },
        "margin": {
         "t": 60
        },
        "template": {
         "data": {
          "bar": [
           {
            "error_x": {
             "color": "#2a3f5f"
            },
            "error_y": {
             "color": "#2a3f5f"
            },
            "marker": {
             "line": {
              "color": "#E5ECF6",
              "width": 0.5
             },
             "pattern": {
              "fillmode": "overlay",
              "size": 10,
              "solidity": 0.2
             }
            },
            "type": "bar"
           }
          ],
          "barpolar": [
           {
            "marker": {
             "line": {
              "color": "#E5ECF6",
              "width": 0.5
             },
             "pattern": {
              "fillmode": "overlay",
              "size": 10,
              "solidity": 0.2
             }
            },
            "type": "barpolar"
           }
          ],
          "carpet": [
           {
            "aaxis": {
             "endlinecolor": "#2a3f5f",
             "gridcolor": "white",
             "linecolor": "white",
             "minorgridcolor": "white",
             "startlinecolor": "#2a3f5f"
            },
            "baxis": {
             "endlinecolor": "#2a3f5f",
             "gridcolor": "white",
             "linecolor": "white",
             "minorgridcolor": "white",
             "startlinecolor": "#2a3f5f"
            },
            "type": "carpet"
           }
          ],
          "choropleth": [
           {
            "colorbar": {
             "outlinewidth": 0,
             "ticks": ""
            },
            "type": "choropleth"
           }
          ],
          "contour": [
           {
            "colorbar": {
             "outlinewidth": 0,
             "ticks": ""
            },
            "colorscale": [
             [
              0,
              "#0d0887"
             ],
             [
              0.1111111111111111,
              "#46039f"
             ],
             [
              0.2222222222222222,
              "#7201a8"
             ],
             [
              0.3333333333333333,
              "#9c179e"
             ],
             [
              0.4444444444444444,
              "#bd3786"
             ],
             [
              0.5555555555555556,
              "#d8576b"
             ],
             [
              0.6666666666666666,
              "#ed7953"
             ],
             [
              0.7777777777777778,
              "#fb9f3a"
             ],
             [
              0.8888888888888888,
              "#fdca26"
             ],
             [
              1,
              "#f0f921"
             ]
            ],
            "type": "contour"
           }
          ],
          "contourcarpet": [
           {
            "colorbar": {
             "outlinewidth": 0,
             "ticks": ""
            },
            "type": "contourcarpet"
           }
          ],
          "heatmap": [
           {
            "colorbar": {
             "outlinewidth": 0,
             "ticks": ""
            },
            "colorscale": [
             [
              0,
              "#0d0887"
             ],
             [
              0.1111111111111111,
              "#46039f"
             ],
             [
              0.2222222222222222,
              "#7201a8"
             ],
             [
              0.3333333333333333,
              "#9c179e"
             ],
             [
              0.4444444444444444,
              "#bd3786"
             ],
             [
              0.5555555555555556,
              "#d8576b"
             ],
             [
              0.6666666666666666,
              "#ed7953"
             ],
             [
              0.7777777777777778,
              "#fb9f3a"
             ],
             [
              0.8888888888888888,
              "#fdca26"
             ],
             [
              1,
              "#f0f921"
             ]
            ],
            "type": "heatmap"
           }
          ],
          "heatmapgl": [
           {
            "colorbar": {
             "outlinewidth": 0,
             "ticks": ""
            },
            "colorscale": [
             [
              0,
              "#0d0887"
             ],
             [
              0.1111111111111111,
              "#46039f"
             ],
             [
              0.2222222222222222,
              "#7201a8"
             ],
             [
              0.3333333333333333,
              "#9c179e"
             ],
             [
              0.4444444444444444,
              "#bd3786"
             ],
             [
              0.5555555555555556,
              "#d8576b"
             ],
             [
              0.6666666666666666,
              "#ed7953"
             ],
             [
              0.7777777777777778,
              "#fb9f3a"
             ],
             [
              0.8888888888888888,
              "#fdca26"
             ],
             [
              1,
              "#f0f921"
             ]
            ],
            "type": "heatmapgl"
           }
          ],
          "histogram": [
           {
            "marker": {
             "pattern": {
              "fillmode": "overlay",
              "size": 10,
              "solidity": 0.2
             }
            },
            "type": "histogram"
           }
          ],
          "histogram2d": [
           {
            "colorbar": {
             "outlinewidth": 0,
             "ticks": ""
            },
            "colorscale": [
             [
              0,
              "#0d0887"
             ],
             [
              0.1111111111111111,
              "#46039f"
             ],
             [
              0.2222222222222222,
              "#7201a8"
             ],
             [
              0.3333333333333333,
              "#9c179e"
             ],
             [
              0.4444444444444444,
              "#bd3786"
             ],
             [
              0.5555555555555556,
              "#d8576b"
             ],
             [
              0.6666666666666666,
              "#ed7953"
             ],
             [
              0.7777777777777778,
              "#fb9f3a"
             ],
             [
              0.8888888888888888,
              "#fdca26"
             ],
             [
              1,
              "#f0f921"
             ]
            ],
            "type": "histogram2d"
           }
          ],
          "histogram2dcontour": [
           {
            "colorbar": {
             "outlinewidth": 0,
             "ticks": ""
            },
            "colorscale": [
             [
              0,
              "#0d0887"
             ],
             [
              0.1111111111111111,
              "#46039f"
             ],
             [
              0.2222222222222222,
              "#7201a8"
             ],
             [
              0.3333333333333333,
              "#9c179e"
             ],
             [
              0.4444444444444444,
              "#bd3786"
             ],
             [
              0.5555555555555556,
              "#d8576b"
             ],
             [
              0.6666666666666666,
              "#ed7953"
             ],
             [
              0.7777777777777778,
              "#fb9f3a"
             ],
             [
              0.8888888888888888,
              "#fdca26"
             ],
             [
              1,
              "#f0f921"
             ]
            ],
            "type": "histogram2dcontour"
           }
          ],
          "mesh3d": [
           {
            "colorbar": {
             "outlinewidth": 0,
             "ticks": ""
            },
            "type": "mesh3d"
           }
          ],
          "parcoords": [
           {
            "line": {
             "colorbar": {
              "outlinewidth": 0,
              "ticks": ""
             }
            },
            "type": "parcoords"
           }
          ],
          "pie": [
           {
            "automargin": true,
            "type": "pie"
           }
          ],
          "scatter": [
           {
            "marker": {
             "colorbar": {
              "outlinewidth": 0,
              "ticks": ""
             }
            },
            "type": "scatter"
           }
          ],
          "scatter3d": [
           {
            "line": {
             "colorbar": {
              "outlinewidth": 0,
              "ticks": ""
             }
            },
            "marker": {
             "colorbar": {
              "outlinewidth": 0,
              "ticks": ""
             }
            },
            "type": "scatter3d"
           }
          ],
          "scattercarpet": [
           {
            "marker": {
             "colorbar": {
              "outlinewidth": 0,
              "ticks": ""
             }
            },
            "type": "scattercarpet"
           }
          ],
          "scattergeo": [
           {
            "marker": {
             "colorbar": {
              "outlinewidth": 0,
              "ticks": ""
             }
            },
            "type": "scattergeo"
           }
          ],
          "scattergl": [
           {
            "marker": {
             "colorbar": {
              "outlinewidth": 0,
              "ticks": ""
             }
            },
            "type": "scattergl"
           }
          ],
          "scattermapbox": [
           {
            "marker": {
             "colorbar": {
              "outlinewidth": 0,
              "ticks": ""
             }
            },
            "type": "scattermapbox"
           }
          ],
          "scatterpolar": [
           {
            "marker": {
             "colorbar": {
              "outlinewidth": 0,
              "ticks": ""
             }
            },
            "type": "scatterpolar"
           }
          ],
          "scatterpolargl": [
           {
            "marker": {
             "colorbar": {
              "outlinewidth": 0,
              "ticks": ""
             }
            },
            "type": "scatterpolargl"
           }
          ],
          "scatterternary": [
           {
            "marker": {
             "colorbar": {
              "outlinewidth": 0,
              "ticks": ""
             }
            },
            "type": "scatterternary"
           }
          ],
          "surface": [
           {
            "colorbar": {
             "outlinewidth": 0,
             "ticks": ""
            },
            "colorscale": [
             [
              0,
              "#0d0887"
             ],
             [
              0.1111111111111111,
              "#46039f"
             ],
             [
              0.2222222222222222,
              "#7201a8"
             ],
             [
              0.3333333333333333,
              "#9c179e"
             ],
             [
              0.4444444444444444,
              "#bd3786"
             ],
             [
              0.5555555555555556,
              "#d8576b"
             ],
             [
              0.6666666666666666,
              "#ed7953"
             ],
             [
              0.7777777777777778,
              "#fb9f3a"
             ],
             [
              0.8888888888888888,
              "#fdca26"
             ],
             [
              1,
              "#f0f921"
             ]
            ],
            "type": "surface"
           }
          ],
          "table": [
           {
            "cells": {
             "fill": {
              "color": "#EBF0F8"
             },
             "line": {
              "color": "white"
             }
            },
            "header": {
             "fill": {
              "color": "#C8D4E3"
             },
             "line": {
              "color": "white"
             }
            },
            "type": "table"
           }
          ]
         },
         "layout": {
          "annotationdefaults": {
           "arrowcolor": "#2a3f5f",
           "arrowhead": 0,
           "arrowwidth": 1
          },
          "autotypenumbers": "strict",
          "coloraxis": {
           "colorbar": {
            "outlinewidth": 0,
            "ticks": ""
           }
          },
          "colorscale": {
           "diverging": [
            [
             0,
             "#8e0152"
            ],
            [
             0.1,
             "#c51b7d"
            ],
            [
             0.2,
             "#de77ae"
            ],
            [
             0.3,
             "#f1b6da"
            ],
            [
             0.4,
             "#fde0ef"
            ],
            [
             0.5,
             "#f7f7f7"
            ],
            [
             0.6,
             "#e6f5d0"
            ],
            [
             0.7,
             "#b8e186"
            ],
            [
             0.8,
             "#7fbc41"
            ],
            [
             0.9,
             "#4d9221"
            ],
            [
             1,
             "#276419"
            ]
           ],
           "sequential": [
            [
             0,
             "#0d0887"
            ],
            [
             0.1111111111111111,
             "#46039f"
            ],
            [
             0.2222222222222222,
             "#7201a8"
            ],
            [
             0.3333333333333333,
             "#9c179e"
            ],
            [
             0.4444444444444444,
             "#bd3786"
            ],
            [
             0.5555555555555556,
             "#d8576b"
            ],
            [
             0.6666666666666666,
             "#ed7953"
            ],
            [
             0.7777777777777778,
             "#fb9f3a"
            ],
            [
             0.8888888888888888,
             "#fdca26"
            ],
            [
             1,
             "#f0f921"
            ]
           ],
           "sequentialminus": [
            [
             0,
             "#0d0887"
            ],
            [
             0.1111111111111111,
             "#46039f"
            ],
            [
             0.2222222222222222,
             "#7201a8"
            ],
            [
             0.3333333333333333,
             "#9c179e"
            ],
            [
             0.4444444444444444,
             "#bd3786"
            ],
            [
             0.5555555555555556,
             "#d8576b"
            ],
            [
             0.6666666666666666,
             "#ed7953"
            ],
            [
             0.7777777777777778,
             "#fb9f3a"
            ],
            [
             0.8888888888888888,
             "#fdca26"
            ],
            [
             1,
             "#f0f921"
            ]
           ]
          },
          "colorway": [
           "#636efa",
           "#EF553B",
           "#00cc96",
           "#ab63fa",
           "#FFA15A",
           "#19d3f3",
           "#FF6692",
           "#B6E880",
           "#FF97FF",
           "#FECB52"
          ],
          "font": {
           "color": "#2a3f5f"
          },
          "geo": {
           "bgcolor": "white",
           "lakecolor": "white",
           "landcolor": "#E5ECF6",
           "showlakes": true,
           "showland": true,
           "subunitcolor": "white"
          },
          "hoverlabel": {
           "align": "left"
          },
          "hovermode": "closest",
          "mapbox": {
           "style": "light"
          },
          "paper_bgcolor": "white",
          "plot_bgcolor": "#E5ECF6",
          "polar": {
           "angularaxis": {
            "gridcolor": "white",
            "linecolor": "white",
            "ticks": ""
           },
           "bgcolor": "#E5ECF6",
           "radialaxis": {
            "gridcolor": "white",
            "linecolor": "white",
            "ticks": ""
           }
          },
          "scene": {
           "xaxis": {
            "backgroundcolor": "#E5ECF6",
            "gridcolor": "white",
            "gridwidth": 2,
            "linecolor": "white",
            "showbackground": true,
            "ticks": "",
            "zerolinecolor": "white"
           },
           "yaxis": {
            "backgroundcolor": "#E5ECF6",
            "gridcolor": "white",
            "gridwidth": 2,
            "linecolor": "white",
            "showbackground": true,
            "ticks": "",
            "zerolinecolor": "white"
           },
           "zaxis": {
            "backgroundcolor": "#E5ECF6",
            "gridcolor": "white",
            "gridwidth": 2,
            "linecolor": "white",
            "showbackground": true,
            "ticks": "",
            "zerolinecolor": "white"
           }
          },
          "shapedefaults": {
           "line": {
            "color": "#2a3f5f"
           }
          },
          "ternary": {
           "aaxis": {
            "gridcolor": "white",
            "linecolor": "white",
            "ticks": ""
           },
           "baxis": {
            "gridcolor": "white",
            "linecolor": "white",
            "ticks": ""
           },
           "bgcolor": "#E5ECF6",
           "caxis": {
            "gridcolor": "white",
            "linecolor": "white",
            "ticks": ""
           }
          },
          "title": {
           "x": 0.05
          },
          "xaxis": {
           "automargin": true,
           "gridcolor": "white",
           "linecolor": "white",
           "ticks": "",
           "title": {
            "standoff": 15
           },
           "zerolinecolor": "white",
           "zerolinewidth": 2
          },
          "yaxis": {
           "automargin": true,
           "gridcolor": "white",
           "linecolor": "white",
           "ticks": "",
           "title": {
            "standoff": 15
           },
           "zerolinecolor": "white",
           "zerolinewidth": 2
          }
         }
        },
        "xaxis": {
         "anchor": "y",
         "domain": [
          0,
          1
         ],
         "title": {
          "text": "Wooster et al. (2008) [Porosity]"
         }
        },
        "yaxis": {
         "anchor": "x",
         "domain": [
          0,
          1
         ],
         "title": {
          "text": "2"
         }
        }
       }
      },
      "text/html": [
       "<div>                            <div id=\"eaca19d9-9730-480c-90a9-753b18f7704c\" class=\"plotly-graph-div\" style=\"height:525px; width:100%;\"></div>            <script type=\"text/javascript\">                require([\"plotly\"], function(Plotly) {                    window.PLOTLYENV=window.PLOTLYENV || {};                                    if (document.getElementById(\"eaca19d9-9730-480c-90a9-753b18f7704c\")) {                    Plotly.newPlot(                        \"eaca19d9-9730-480c-90a9-753b18f7704c\",                        [{\"customdata\":[[\"FP-A AFTER\"],[\"FP-B AFTER\"],[\"FP-RP AFTER\"],[\"FC-B2 AFTER\"],[\"FC-RP AFTER\"],[\"FC-B1 AFTER\"],[\"FC-A1 AFTER\"],[\"FC-A2 AFTER\"]],\"hovertemplate\":\"Campaign=After<br>Wooster et al. (2008) [Porosity]=%{x}<br>2=%{y}<br>sample name=%{customdata[0]}<extra></extra>\",\"legendgroup\":\"After\",\"marker\":{\"color\":\"#636efa\",\"symbol\":\"circle\"},\"mode\":\"markers\",\"name\":\"After\",\"orientation\":\"v\",\"showlegend\":true,\"x\":[0.215494971,0.209803155,0.217748484,0.189986418,0.197577875,0.211044117,0.159179467,0.150062295],\"xaxis\":\"x\",\"y\":[11.76470588,31.11324838,19.3063229,19.65532286,22.66887692,16.38111158,24.3174372,32.84407167],\"yaxis\":\"y\",\"type\":\"scatter\"},{\"customdata\":[[\"FP-A BEFORE\"],[\"FP-B BEFORE\"],[\"FP-RP BEFORE\"],[\"FC-B1 BEFORE\"],[\"FC-B2 BEFORE\"],[\"FC-RP BEFORE\"],[\"FC-A1 BEFORE\"],[\"FC-A2 BEFORE\"]],\"hovertemplate\":\"Campaign=Before<br>Wooster et al. (2008) [Porosity]=%{x}<br>2=%{y}<br>sample name=%{customdata[0]}<extra></extra>\",\"legendgroup\":\"Before\",\"marker\":{\"color\":\"#EF553B\",\"symbol\":\"circle\"},\"mode\":\"markers\",\"name\":\"Before\",\"orientation\":\"v\",\"showlegend\":true,\"x\":[0.184366262,0.182173833,0.205268521,0.199392242,0.195214063,0.20736887,0.142106779,0.141619999],\"xaxis\":\"x\",\"y\":[20.34307804,25.58915947,22.91228504,15.78852724,18.67917847,29.31783163,31.97018533,37.1850252],\"yaxis\":\"y\",\"type\":\"scatter\"}],                        {\"template\":{\"data\":{\"bar\":[{\"error_x\":{\"color\":\"#2a3f5f\"},\"error_y\":{\"color\":\"#2a3f5f\"},\"marker\":{\"line\":{\"color\":\"#E5ECF6\",\"width\":0.5},\"pattern\":{\"fillmode\":\"overlay\",\"size\":10,\"solidity\":0.2}},\"type\":\"bar\"}],\"barpolar\":[{\"marker\":{\"line\":{\"color\":\"#E5ECF6\",\"width\":0.5},\"pattern\":{\"fillmode\":\"overlay\",\"size\":10,\"solidity\":0.2}},\"type\":\"barpolar\"}],\"carpet\":[{\"aaxis\":{\"endlinecolor\":\"#2a3f5f\",\"gridcolor\":\"white\",\"linecolor\":\"white\",\"minorgridcolor\":\"white\",\"startlinecolor\":\"#2a3f5f\"},\"baxis\":{\"endlinecolor\":\"#2a3f5f\",\"gridcolor\":\"white\",\"linecolor\":\"white\",\"minorgridcolor\":\"white\",\"startlinecolor\":\"#2a3f5f\"},\"type\":\"carpet\"}],\"choropleth\":[{\"colorbar\":{\"outlinewidth\":0,\"ticks\":\"\"},\"type\":\"choropleth\"}],\"contour\":[{\"colorbar\":{\"outlinewidth\":0,\"ticks\":\"\"},\"colorscale\":[[0.0,\"#0d0887\"],[0.1111111111111111,\"#46039f\"],[0.2222222222222222,\"#7201a8\"],[0.3333333333333333,\"#9c179e\"],[0.4444444444444444,\"#bd3786\"],[0.5555555555555556,\"#d8576b\"],[0.6666666666666666,\"#ed7953\"],[0.7777777777777778,\"#fb9f3a\"],[0.8888888888888888,\"#fdca26\"],[1.0,\"#f0f921\"]],\"type\":\"contour\"}],\"contourcarpet\":[{\"colorbar\":{\"outlinewidth\":0,\"ticks\":\"\"},\"type\":\"contourcarpet\"}],\"heatmap\":[{\"colorbar\":{\"outlinewidth\":0,\"ticks\":\"\"},\"colorscale\":[[0.0,\"#0d0887\"],[0.1111111111111111,\"#46039f\"],[0.2222222222222222,\"#7201a8\"],[0.3333333333333333,\"#9c179e\"],[0.4444444444444444,\"#bd3786\"],[0.5555555555555556,\"#d8576b\"],[0.6666666666666666,\"#ed7953\"],[0.7777777777777778,\"#fb9f3a\"],[0.8888888888888888,\"#fdca26\"],[1.0,\"#f0f921\"]],\"type\":\"heatmap\"}],\"heatmapgl\":[{\"colorbar\":{\"outlinewidth\":0,\"ticks\":\"\"},\"colorscale\":[[0.0,\"#0d0887\"],[0.1111111111111111,\"#46039f\"],[0.2222222222222222,\"#7201a8\"],[0.3333333333333333,\"#9c179e\"],[0.4444444444444444,\"#bd3786\"],[0.5555555555555556,\"#d8576b\"],[0.6666666666666666,\"#ed7953\"],[0.7777777777777778,\"#fb9f3a\"],[0.8888888888888888,\"#fdca26\"],[1.0,\"#f0f921\"]],\"type\":\"heatmapgl\"}],\"histogram\":[{\"marker\":{\"pattern\":{\"fillmode\":\"overlay\",\"size\":10,\"solidity\":0.2}},\"type\":\"histogram\"}],\"histogram2d\":[{\"colorbar\":{\"outlinewidth\":0,\"ticks\":\"\"},\"colorscale\":[[0.0,\"#0d0887\"],[0.1111111111111111,\"#46039f\"],[0.2222222222222222,\"#7201a8\"],[0.3333333333333333,\"#9c179e\"],[0.4444444444444444,\"#bd3786\"],[0.5555555555555556,\"#d8576b\"],[0.6666666666666666,\"#ed7953\"],[0.7777777777777778,\"#fb9f3a\"],[0.8888888888888888,\"#fdca26\"],[1.0,\"#f0f921\"]],\"type\":\"histogram2d\"}],\"histogram2dcontour\":[{\"colorbar\":{\"outlinewidth\":0,\"ticks\":\"\"},\"colorscale\":[[0.0,\"#0d0887\"],[0.1111111111111111,\"#46039f\"],[0.2222222222222222,\"#7201a8\"],[0.3333333333333333,\"#9c179e\"],[0.4444444444444444,\"#bd3786\"],[0.5555555555555556,\"#d8576b\"],[0.6666666666666666,\"#ed7953\"],[0.7777777777777778,\"#fb9f3a\"],[0.8888888888888888,\"#fdca26\"],[1.0,\"#f0f921\"]],\"type\":\"histogram2dcontour\"}],\"mesh3d\":[{\"colorbar\":{\"outlinewidth\":0,\"ticks\":\"\"},\"type\":\"mesh3d\"}],\"parcoords\":[{\"line\":{\"colorbar\":{\"outlinewidth\":0,\"ticks\":\"\"}},\"type\":\"parcoords\"}],\"pie\":[{\"automargin\":true,\"type\":\"pie\"}],\"scatter\":[{\"marker\":{\"colorbar\":{\"outlinewidth\":0,\"ticks\":\"\"}},\"type\":\"scatter\"}],\"scatter3d\":[{\"line\":{\"colorbar\":{\"outlinewidth\":0,\"ticks\":\"\"}},\"marker\":{\"colorbar\":{\"outlinewidth\":0,\"ticks\":\"\"}},\"type\":\"scatter3d\"}],\"scattercarpet\":[{\"marker\":{\"colorbar\":{\"outlinewidth\":0,\"ticks\":\"\"}},\"type\":\"scattercarpet\"}],\"scattergeo\":[{\"marker\":{\"colorbar\":{\"outlinewidth\":0,\"ticks\":\"\"}},\"type\":\"scattergeo\"}],\"scattergl\":[{\"marker\":{\"colorbar\":{\"outlinewidth\":0,\"ticks\":\"\"}},\"type\":\"scattergl\"}],\"scattermapbox\":[{\"marker\":{\"colorbar\":{\"outlinewidth\":0,\"ticks\":\"\"}},\"type\":\"scattermapbox\"}],\"scatterpolar\":[{\"marker\":{\"colorbar\":{\"outlinewidth\":0,\"ticks\":\"\"}},\"type\":\"scatterpolar\"}],\"scatterpolargl\":[{\"marker\":{\"colorbar\":{\"outlinewidth\":0,\"ticks\":\"\"}},\"type\":\"scatterpolargl\"}],\"scatterternary\":[{\"marker\":{\"colorbar\":{\"outlinewidth\":0,\"ticks\":\"\"}},\"type\":\"scatterternary\"}],\"surface\":[{\"colorbar\":{\"outlinewidth\":0,\"ticks\":\"\"},\"colorscale\":[[0.0,\"#0d0887\"],[0.1111111111111111,\"#46039f\"],[0.2222222222222222,\"#7201a8\"],[0.3333333333333333,\"#9c179e\"],[0.4444444444444444,\"#bd3786\"],[0.5555555555555556,\"#d8576b\"],[0.6666666666666666,\"#ed7953\"],[0.7777777777777778,\"#fb9f3a\"],[0.8888888888888888,\"#fdca26\"],[1.0,\"#f0f921\"]],\"type\":\"surface\"}],\"table\":[{\"cells\":{\"fill\":{\"color\":\"#EBF0F8\"},\"line\":{\"color\":\"white\"}},\"header\":{\"fill\":{\"color\":\"#C8D4E3\"},\"line\":{\"color\":\"white\"}},\"type\":\"table\"}]},\"layout\":{\"annotationdefaults\":{\"arrowcolor\":\"#2a3f5f\",\"arrowhead\":0,\"arrowwidth\":1},\"autotypenumbers\":\"strict\",\"coloraxis\":{\"colorbar\":{\"outlinewidth\":0,\"ticks\":\"\"}},\"colorscale\":{\"diverging\":[[0,\"#8e0152\"],[0.1,\"#c51b7d\"],[0.2,\"#de77ae\"],[0.3,\"#f1b6da\"],[0.4,\"#fde0ef\"],[0.5,\"#f7f7f7\"],[0.6,\"#e6f5d0\"],[0.7,\"#b8e186\"],[0.8,\"#7fbc41\"],[0.9,\"#4d9221\"],[1,\"#276419\"]],\"sequential\":[[0.0,\"#0d0887\"],[0.1111111111111111,\"#46039f\"],[0.2222222222222222,\"#7201a8\"],[0.3333333333333333,\"#9c179e\"],[0.4444444444444444,\"#bd3786\"],[0.5555555555555556,\"#d8576b\"],[0.6666666666666666,\"#ed7953\"],[0.7777777777777778,\"#fb9f3a\"],[0.8888888888888888,\"#fdca26\"],[1.0,\"#f0f921\"]],\"sequentialminus\":[[0.0,\"#0d0887\"],[0.1111111111111111,\"#46039f\"],[0.2222222222222222,\"#7201a8\"],[0.3333333333333333,\"#9c179e\"],[0.4444444444444444,\"#bd3786\"],[0.5555555555555556,\"#d8576b\"],[0.6666666666666666,\"#ed7953\"],[0.7777777777777778,\"#fb9f3a\"],[0.8888888888888888,\"#fdca26\"],[1.0,\"#f0f921\"]]},\"colorway\":[\"#636efa\",\"#EF553B\",\"#00cc96\",\"#ab63fa\",\"#FFA15A\",\"#19d3f3\",\"#FF6692\",\"#B6E880\",\"#FF97FF\",\"#FECB52\"],\"font\":{\"color\":\"#2a3f5f\"},\"geo\":{\"bgcolor\":\"white\",\"lakecolor\":\"white\",\"landcolor\":\"#E5ECF6\",\"showlakes\":true,\"showland\":true,\"subunitcolor\":\"white\"},\"hoverlabel\":{\"align\":\"left\"},\"hovermode\":\"closest\",\"mapbox\":{\"style\":\"light\"},\"paper_bgcolor\":\"white\",\"plot_bgcolor\":\"#E5ECF6\",\"polar\":{\"angularaxis\":{\"gridcolor\":\"white\",\"linecolor\":\"white\",\"ticks\":\"\"},\"bgcolor\":\"#E5ECF6\",\"radialaxis\":{\"gridcolor\":\"white\",\"linecolor\":\"white\",\"ticks\":\"\"}},\"scene\":{\"xaxis\":{\"backgroundcolor\":\"#E5ECF6\",\"gridcolor\":\"white\",\"gridwidth\":2,\"linecolor\":\"white\",\"showbackground\":true,\"ticks\":\"\",\"zerolinecolor\":\"white\"},\"yaxis\":{\"backgroundcolor\":\"#E5ECF6\",\"gridcolor\":\"white\",\"gridwidth\":2,\"linecolor\":\"white\",\"showbackground\":true,\"ticks\":\"\",\"zerolinecolor\":\"white\"},\"zaxis\":{\"backgroundcolor\":\"#E5ECF6\",\"gridcolor\":\"white\",\"gridwidth\":2,\"linecolor\":\"white\",\"showbackground\":true,\"ticks\":\"\",\"zerolinecolor\":\"white\"}},\"shapedefaults\":{\"line\":{\"color\":\"#2a3f5f\"}},\"ternary\":{\"aaxis\":{\"gridcolor\":\"white\",\"linecolor\":\"white\",\"ticks\":\"\"},\"baxis\":{\"gridcolor\":\"white\",\"linecolor\":\"white\",\"ticks\":\"\"},\"bgcolor\":\"#E5ECF6\",\"caxis\":{\"gridcolor\":\"white\",\"linecolor\":\"white\",\"ticks\":\"\"}},\"title\":{\"x\":0.05},\"xaxis\":{\"automargin\":true,\"gridcolor\":\"white\",\"linecolor\":\"white\",\"ticks\":\"\",\"title\":{\"standoff\":15},\"zerolinecolor\":\"white\",\"zerolinewidth\":2},\"yaxis\":{\"automargin\":true,\"gridcolor\":\"white\",\"linecolor\":\"white\",\"ticks\":\"\",\"title\":{\"standoff\":15},\"zerolinecolor\":\"white\",\"zerolinewidth\":2}}},\"xaxis\":{\"anchor\":\"y\",\"domain\":[0.0,1.0],\"title\":{\"text\":\"Wooster et al. (2008) [Porosity]\"}},\"yaxis\":{\"anchor\":\"x\",\"domain\":[0.0,1.0],\"title\":{\"text\":\"2\"}},\"legend\":{\"title\":{\"text\":\"Campaign\"},\"tracegroupgap\":0},\"margin\":{\"t\":60}},                        {\"responsive\": true}                    ).then(function(){\n",
       "                            \n",
       "var gd = document.getElementById('eaca19d9-9730-480c-90a9-753b18f7704c');\n",
       "var x = new MutationObserver(function (mutations, observer) {{\n",
       "        var display = window.getComputedStyle(gd).display;\n",
       "        if (!display || display === 'none') {{\n",
       "            console.log([gd, 'removed!']);\n",
       "            Plotly.purge(gd);\n",
       "            observer.disconnect();\n",
       "        }}\n",
       "}});\n",
       "\n",
       "// Listen for the removal of the full notebook cells\n",
       "var notebookContainer = gd.closest('#notebook-container');\n",
       "if (notebookContainer) {{\n",
       "    x.observe(notebookContainer, {childList: true});\n",
       "}}\n",
       "\n",
       "// Listen for the clearing of the current output cell\n",
       "var outputEl = gd.closest('.output');\n",
       "if (outputEl) {{\n",
       "    x.observe(outputEl, {childList: true});\n",
       "}}\n",
       "\n",
       "                        })                };                });            </script>        </div>"
      ]
     },
     "metadata": {},
     "output_type": "display_data"
    }
   ],
   "source": [
    "px.scatter(df, x='Wooster et al. (2008) [Porosity]', y='2', color='Campaign', hover_data=['sample name'])"
   ]
  },
  {
   "cell_type": "markdown",
   "metadata": {},
   "source": [
    "## Changes in Freeze Panels"
   ]
  },
  {
   "cell_type": "code",
   "execution_count": 6,
   "metadata": {},
   "outputs": [
    {
     "data": {
      "application/vnd.plotly.v1+json": {
       "config": {
        "plotlyServerURL": "https://plot.ly"
       },
       "data": [
        {
         "customdata": [
          [
           "FP-A AFTER"
          ],
          [
           "FP-A BEFORE"
          ]
         ],
         "hovertemplate": "Location=A<br>Porosity [-]=%{x}<br>FSF < 2 mm [%]=%{y}<br>Mean Grain Size dm [mm]=%{marker.size}<br>sample name=%{customdata[0]}<extra></extra>",
         "legendgroup": "A",
         "marker": {
          "color": "#636efa",
          "size": [
           27.05659672,
           23.78994117
          ],
          "sizemode": "area",
          "sizeref": 0.06764149180000001,
          "symbol": "circle"
         },
         "mode": "markers",
         "name": "A",
         "orientation": "v",
         "showlegend": true,
         "type": "scatter",
         "x": [
          0.215494971,
          0.184366262
         ],
         "xaxis": "x",
         "y": [
          11.76470588,
          20.34307804
         ],
         "yaxis": "y"
        },
        {
         "customdata": [
          [
           "FP-B AFTER"
          ],
          [
           "FP-B BEFORE"
          ]
         ],
         "hovertemplate": "Location=B<br>Porosity [-]=%{x}<br>FSF < 2 mm [%]=%{y}<br>Mean Grain Size dm [mm]=%{marker.size}<br>sample name=%{customdata[0]}<extra></extra>",
         "legendgroup": "B",
         "marker": {
          "color": "#EF553B",
          "size": [
           9.960317252,
           19.50356275
          ],
          "sizemode": "area",
          "sizeref": 0.06764149180000001,
          "symbol": "circle"
         },
         "mode": "markers",
         "name": "B",
         "orientation": "v",
         "showlegend": true,
         "type": "scatter",
         "x": [
          0.209803155,
          0.182173833
         ],
         "xaxis": "x",
         "y": [
          31.11324838,
          25.58915947
         ],
         "yaxis": "y"
        },
        {
         "customdata": [
          [
           "FP-RP BEFORE"
          ],
          [
           "FP-RP AFTER"
          ]
         ],
         "hovertemplate": "Location=RP<br>Porosity [-]=%{x}<br>FSF < 2 mm [%]=%{y}<br>Mean Grain Size dm [mm]=%{marker.size}<br>sample name=%{customdata[0]}<extra></extra>",
         "legendgroup": "RP",
         "marker": {
          "color": "#00cc96",
          "size": [
           18.42795915,
           21.28594408
          ],
          "sizemode": "area",
          "sizeref": 0.06764149180000001,
          "symbol": "circle"
         },
         "mode": "markers",
         "name": "RP",
         "orientation": "v",
         "showlegend": true,
         "type": "scatter",
         "x": [
          0.205268521,
          0.217748484
         ],
         "xaxis": "x",
         "y": [
          22.91228504,
          19.3063229
         ],
         "yaxis": "y"
        }
       ],
       "layout": {
        "legend": {
         "itemsizing": "constant",
         "title": {
          "text": "Location"
         },
         "tracegroupgap": 0
        },
        "margin": {
         "t": 60
        },
        "template": {
         "data": {
          "bar": [
           {
            "error_x": {
             "color": "#2a3f5f"
            },
            "error_y": {
             "color": "#2a3f5f"
            },
            "marker": {
             "line": {
              "color": "#E5ECF6",
              "width": 0.5
             },
             "pattern": {
              "fillmode": "overlay",
              "size": 10,
              "solidity": 0.2
             }
            },
            "type": "bar"
           }
          ],
          "barpolar": [
           {
            "marker": {
             "line": {
              "color": "#E5ECF6",
              "width": 0.5
             },
             "pattern": {
              "fillmode": "overlay",
              "size": 10,
              "solidity": 0.2
             }
            },
            "type": "barpolar"
           }
          ],
          "carpet": [
           {
            "aaxis": {
             "endlinecolor": "#2a3f5f",
             "gridcolor": "white",
             "linecolor": "white",
             "minorgridcolor": "white",
             "startlinecolor": "#2a3f5f"
            },
            "baxis": {
             "endlinecolor": "#2a3f5f",
             "gridcolor": "white",
             "linecolor": "white",
             "minorgridcolor": "white",
             "startlinecolor": "#2a3f5f"
            },
            "type": "carpet"
           }
          ],
          "choropleth": [
           {
            "colorbar": {
             "outlinewidth": 0,
             "ticks": ""
            },
            "type": "choropleth"
           }
          ],
          "contour": [
           {
            "colorbar": {
             "outlinewidth": 0,
             "ticks": ""
            },
            "colorscale": [
             [
              0,
              "#0d0887"
             ],
             [
              0.1111111111111111,
              "#46039f"
             ],
             [
              0.2222222222222222,
              "#7201a8"
             ],
             [
              0.3333333333333333,
              "#9c179e"
             ],
             [
              0.4444444444444444,
              "#bd3786"
             ],
             [
              0.5555555555555556,
              "#d8576b"
             ],
             [
              0.6666666666666666,
              "#ed7953"
             ],
             [
              0.7777777777777778,
              "#fb9f3a"
             ],
             [
              0.8888888888888888,
              "#fdca26"
             ],
             [
              1,
              "#f0f921"
             ]
            ],
            "type": "contour"
           }
          ],
          "contourcarpet": [
           {
            "colorbar": {
             "outlinewidth": 0,
             "ticks": ""
            },
            "type": "contourcarpet"
           }
          ],
          "heatmap": [
           {
            "colorbar": {
             "outlinewidth": 0,
             "ticks": ""
            },
            "colorscale": [
             [
              0,
              "#0d0887"
             ],
             [
              0.1111111111111111,
              "#46039f"
             ],
             [
              0.2222222222222222,
              "#7201a8"
             ],
             [
              0.3333333333333333,
              "#9c179e"
             ],
             [
              0.4444444444444444,
              "#bd3786"
             ],
             [
              0.5555555555555556,
              "#d8576b"
             ],
             [
              0.6666666666666666,
              "#ed7953"
             ],
             [
              0.7777777777777778,
              "#fb9f3a"
             ],
             [
              0.8888888888888888,
              "#fdca26"
             ],
             [
              1,
              "#f0f921"
             ]
            ],
            "type": "heatmap"
           }
          ],
          "heatmapgl": [
           {
            "colorbar": {
             "outlinewidth": 0,
             "ticks": ""
            },
            "colorscale": [
             [
              0,
              "#0d0887"
             ],
             [
              0.1111111111111111,
              "#46039f"
             ],
             [
              0.2222222222222222,
              "#7201a8"
             ],
             [
              0.3333333333333333,
              "#9c179e"
             ],
             [
              0.4444444444444444,
              "#bd3786"
             ],
             [
              0.5555555555555556,
              "#d8576b"
             ],
             [
              0.6666666666666666,
              "#ed7953"
             ],
             [
              0.7777777777777778,
              "#fb9f3a"
             ],
             [
              0.8888888888888888,
              "#fdca26"
             ],
             [
              1,
              "#f0f921"
             ]
            ],
            "type": "heatmapgl"
           }
          ],
          "histogram": [
           {
            "marker": {
             "pattern": {
              "fillmode": "overlay",
              "size": 10,
              "solidity": 0.2
             }
            },
            "type": "histogram"
           }
          ],
          "histogram2d": [
           {
            "colorbar": {
             "outlinewidth": 0,
             "ticks": ""
            },
            "colorscale": [
             [
              0,
              "#0d0887"
             ],
             [
              0.1111111111111111,
              "#46039f"
             ],
             [
              0.2222222222222222,
              "#7201a8"
             ],
             [
              0.3333333333333333,
              "#9c179e"
             ],
             [
              0.4444444444444444,
              "#bd3786"
             ],
             [
              0.5555555555555556,
              "#d8576b"
             ],
             [
              0.6666666666666666,
              "#ed7953"
             ],
             [
              0.7777777777777778,
              "#fb9f3a"
             ],
             [
              0.8888888888888888,
              "#fdca26"
             ],
             [
              1,
              "#f0f921"
             ]
            ],
            "type": "histogram2d"
           }
          ],
          "histogram2dcontour": [
           {
            "colorbar": {
             "outlinewidth": 0,
             "ticks": ""
            },
            "colorscale": [
             [
              0,
              "#0d0887"
             ],
             [
              0.1111111111111111,
              "#46039f"
             ],
             [
              0.2222222222222222,
              "#7201a8"
             ],
             [
              0.3333333333333333,
              "#9c179e"
             ],
             [
              0.4444444444444444,
              "#bd3786"
             ],
             [
              0.5555555555555556,
              "#d8576b"
             ],
             [
              0.6666666666666666,
              "#ed7953"
             ],
             [
              0.7777777777777778,
              "#fb9f3a"
             ],
             [
              0.8888888888888888,
              "#fdca26"
             ],
             [
              1,
              "#f0f921"
             ]
            ],
            "type": "histogram2dcontour"
           }
          ],
          "mesh3d": [
           {
            "colorbar": {
             "outlinewidth": 0,
             "ticks": ""
            },
            "type": "mesh3d"
           }
          ],
          "parcoords": [
           {
            "line": {
             "colorbar": {
              "outlinewidth": 0,
              "ticks": ""
             }
            },
            "type": "parcoords"
           }
          ],
          "pie": [
           {
            "automargin": true,
            "type": "pie"
           }
          ],
          "scatter": [
           {
            "marker": {
             "colorbar": {
              "outlinewidth": 0,
              "ticks": ""
             }
            },
            "type": "scatter"
           }
          ],
          "scatter3d": [
           {
            "line": {
             "colorbar": {
              "outlinewidth": 0,
              "ticks": ""
             }
            },
            "marker": {
             "colorbar": {
              "outlinewidth": 0,
              "ticks": ""
             }
            },
            "type": "scatter3d"
           }
          ],
          "scattercarpet": [
           {
            "marker": {
             "colorbar": {
              "outlinewidth": 0,
              "ticks": ""
             }
            },
            "type": "scattercarpet"
           }
          ],
          "scattergeo": [
           {
            "marker": {
             "colorbar": {
              "outlinewidth": 0,
              "ticks": ""
             }
            },
            "type": "scattergeo"
           }
          ],
          "scattergl": [
           {
            "marker": {
             "colorbar": {
              "outlinewidth": 0,
              "ticks": ""
             }
            },
            "type": "scattergl"
           }
          ],
          "scattermapbox": [
           {
            "marker": {
             "colorbar": {
              "outlinewidth": 0,
              "ticks": ""
             }
            },
            "type": "scattermapbox"
           }
          ],
          "scatterpolar": [
           {
            "marker": {
             "colorbar": {
              "outlinewidth": 0,
              "ticks": ""
             }
            },
            "type": "scatterpolar"
           }
          ],
          "scatterpolargl": [
           {
            "marker": {
             "colorbar": {
              "outlinewidth": 0,
              "ticks": ""
             }
            },
            "type": "scatterpolargl"
           }
          ],
          "scatterternary": [
           {
            "marker": {
             "colorbar": {
              "outlinewidth": 0,
              "ticks": ""
             }
            },
            "type": "scatterternary"
           }
          ],
          "surface": [
           {
            "colorbar": {
             "outlinewidth": 0,
             "ticks": ""
            },
            "colorscale": [
             [
              0,
              "#0d0887"
             ],
             [
              0.1111111111111111,
              "#46039f"
             ],
             [
              0.2222222222222222,
              "#7201a8"
             ],
             [
              0.3333333333333333,
              "#9c179e"
             ],
             [
              0.4444444444444444,
              "#bd3786"
             ],
             [
              0.5555555555555556,
              "#d8576b"
             ],
             [
              0.6666666666666666,
              "#ed7953"
             ],
             [
              0.7777777777777778,
              "#fb9f3a"
             ],
             [
              0.8888888888888888,
              "#fdca26"
             ],
             [
              1,
              "#f0f921"
             ]
            ],
            "type": "surface"
           }
          ],
          "table": [
           {
            "cells": {
             "fill": {
              "color": "#EBF0F8"
             },
             "line": {
              "color": "white"
             }
            },
            "header": {
             "fill": {
              "color": "#C8D4E3"
             },
             "line": {
              "color": "white"
             }
            },
            "type": "table"
           }
          ]
         },
         "layout": {
          "annotationdefaults": {
           "arrowcolor": "#2a3f5f",
           "arrowhead": 0,
           "arrowwidth": 1
          },
          "autotypenumbers": "strict",
          "coloraxis": {
           "colorbar": {
            "outlinewidth": 0,
            "ticks": ""
           }
          },
          "colorscale": {
           "diverging": [
            [
             0,
             "#8e0152"
            ],
            [
             0.1,
             "#c51b7d"
            ],
            [
             0.2,
             "#de77ae"
            ],
            [
             0.3,
             "#f1b6da"
            ],
            [
             0.4,
             "#fde0ef"
            ],
            [
             0.5,
             "#f7f7f7"
            ],
            [
             0.6,
             "#e6f5d0"
            ],
            [
             0.7,
             "#b8e186"
            ],
            [
             0.8,
             "#7fbc41"
            ],
            [
             0.9,
             "#4d9221"
            ],
            [
             1,
             "#276419"
            ]
           ],
           "sequential": [
            [
             0,
             "#0d0887"
            ],
            [
             0.1111111111111111,
             "#46039f"
            ],
            [
             0.2222222222222222,
             "#7201a8"
            ],
            [
             0.3333333333333333,
             "#9c179e"
            ],
            [
             0.4444444444444444,
             "#bd3786"
            ],
            [
             0.5555555555555556,
             "#d8576b"
            ],
            [
             0.6666666666666666,
             "#ed7953"
            ],
            [
             0.7777777777777778,
             "#fb9f3a"
            ],
            [
             0.8888888888888888,
             "#fdca26"
            ],
            [
             1,
             "#f0f921"
            ]
           ],
           "sequentialminus": [
            [
             0,
             "#0d0887"
            ],
            [
             0.1111111111111111,
             "#46039f"
            ],
            [
             0.2222222222222222,
             "#7201a8"
            ],
            [
             0.3333333333333333,
             "#9c179e"
            ],
            [
             0.4444444444444444,
             "#bd3786"
            ],
            [
             0.5555555555555556,
             "#d8576b"
            ],
            [
             0.6666666666666666,
             "#ed7953"
            ],
            [
             0.7777777777777778,
             "#fb9f3a"
            ],
            [
             0.8888888888888888,
             "#fdca26"
            ],
            [
             1,
             "#f0f921"
            ]
           ]
          },
          "colorway": [
           "#636efa",
           "#EF553B",
           "#00cc96",
           "#ab63fa",
           "#FFA15A",
           "#19d3f3",
           "#FF6692",
           "#B6E880",
           "#FF97FF",
           "#FECB52"
          ],
          "font": {
           "color": "#2a3f5f"
          },
          "geo": {
           "bgcolor": "white",
           "lakecolor": "white",
           "landcolor": "#E5ECF6",
           "showlakes": true,
           "showland": true,
           "subunitcolor": "white"
          },
          "hoverlabel": {
           "align": "left"
          },
          "hovermode": "closest",
          "mapbox": {
           "style": "light"
          },
          "paper_bgcolor": "white",
          "plot_bgcolor": "#E5ECF6",
          "polar": {
           "angularaxis": {
            "gridcolor": "white",
            "linecolor": "white",
            "ticks": ""
           },
           "bgcolor": "#E5ECF6",
           "radialaxis": {
            "gridcolor": "white",
            "linecolor": "white",
            "ticks": ""
           }
          },
          "scene": {
           "xaxis": {
            "backgroundcolor": "#E5ECF6",
            "gridcolor": "white",
            "gridwidth": 2,
            "linecolor": "white",
            "showbackground": true,
            "ticks": "",
            "zerolinecolor": "white"
           },
           "yaxis": {
            "backgroundcolor": "#E5ECF6",
            "gridcolor": "white",
            "gridwidth": 2,
            "linecolor": "white",
            "showbackground": true,
            "ticks": "",
            "zerolinecolor": "white"
           },
           "zaxis": {
            "backgroundcolor": "#E5ECF6",
            "gridcolor": "white",
            "gridwidth": 2,
            "linecolor": "white",
            "showbackground": true,
            "ticks": "",
            "zerolinecolor": "white"
           }
          },
          "shapedefaults": {
           "line": {
            "color": "#2a3f5f"
           }
          },
          "ternary": {
           "aaxis": {
            "gridcolor": "white",
            "linecolor": "white",
            "ticks": ""
           },
           "baxis": {
            "gridcolor": "white",
            "linecolor": "white",
            "ticks": ""
           },
           "bgcolor": "#E5ECF6",
           "caxis": {
            "gridcolor": "white",
            "linecolor": "white",
            "ticks": ""
           }
          },
          "title": {
           "x": 0.05
          },
          "xaxis": {
           "automargin": true,
           "gridcolor": "white",
           "linecolor": "white",
           "ticks": "",
           "title": {
            "standoff": 15
           },
           "zerolinecolor": "white",
           "zerolinewidth": 2
          },
          "yaxis": {
           "automargin": true,
           "gridcolor": "white",
           "linecolor": "white",
           "ticks": "",
           "title": {
            "standoff": 15
           },
           "zerolinecolor": "white",
           "zerolinewidth": 2
          }
         }
        },
        "xaxis": {
         "anchor": "y",
         "domain": [
          0,
          1
         ],
         "title": {
          "text": "Porosity [-]"
         }
        },
        "yaxis": {
         "anchor": "x",
         "domain": [
          0,
          1
         ],
         "title": {
          "text": "FSF < 2 mm [%]"
         }
        }
       }
      },
      "text/html": [
       "<div>                            <div id=\"5d000970-2d31-4720-ba04-876de80dcc9e\" class=\"plotly-graph-div\" style=\"height:525px; width:100%;\"></div>            <script type=\"text/javascript\">                require([\"plotly\"], function(Plotly) {                    window.PLOTLYENV=window.PLOTLYENV || {};                                    if (document.getElementById(\"5d000970-2d31-4720-ba04-876de80dcc9e\")) {                    Plotly.newPlot(                        \"5d000970-2d31-4720-ba04-876de80dcc9e\",                        [{\"customdata\":[[\"FP-A AFTER\"],[\"FP-A BEFORE\"]],\"hovertemplate\":\"Location=A<br>Porosity [-]=%{x}<br>FSF < 2 mm [%]=%{y}<br>Mean Grain Size dm [mm]=%{marker.size}<br>sample name=%{customdata[0]}<extra></extra>\",\"legendgroup\":\"A\",\"marker\":{\"color\":\"#636efa\",\"size\":[27.05659672,23.78994117],\"sizemode\":\"area\",\"sizeref\":0.06764149180000001,\"symbol\":\"circle\"},\"mode\":\"markers\",\"name\":\"A\",\"orientation\":\"v\",\"showlegend\":true,\"x\":[0.215494971,0.184366262],\"xaxis\":\"x\",\"y\":[11.76470588,20.34307804],\"yaxis\":\"y\",\"type\":\"scatter\"},{\"customdata\":[[\"FP-B AFTER\"],[\"FP-B BEFORE\"]],\"hovertemplate\":\"Location=B<br>Porosity [-]=%{x}<br>FSF < 2 mm [%]=%{y}<br>Mean Grain Size dm [mm]=%{marker.size}<br>sample name=%{customdata[0]}<extra></extra>\",\"legendgroup\":\"B\",\"marker\":{\"color\":\"#EF553B\",\"size\":[9.960317252,19.50356275],\"sizemode\":\"area\",\"sizeref\":0.06764149180000001,\"symbol\":\"circle\"},\"mode\":\"markers\",\"name\":\"B\",\"orientation\":\"v\",\"showlegend\":true,\"x\":[0.209803155,0.182173833],\"xaxis\":\"x\",\"y\":[31.11324838,25.58915947],\"yaxis\":\"y\",\"type\":\"scatter\"},{\"customdata\":[[\"FP-RP BEFORE\"],[\"FP-RP AFTER\"]],\"hovertemplate\":\"Location=RP<br>Porosity [-]=%{x}<br>FSF < 2 mm [%]=%{y}<br>Mean Grain Size dm [mm]=%{marker.size}<br>sample name=%{customdata[0]}<extra></extra>\",\"legendgroup\":\"RP\",\"marker\":{\"color\":\"#00cc96\",\"size\":[18.42795915,21.28594408],\"sizemode\":\"area\",\"sizeref\":0.06764149180000001,\"symbol\":\"circle\"},\"mode\":\"markers\",\"name\":\"RP\",\"orientation\":\"v\",\"showlegend\":true,\"x\":[0.205268521,0.217748484],\"xaxis\":\"x\",\"y\":[22.91228504,19.3063229],\"yaxis\":\"y\",\"type\":\"scatter\"}],                        {\"template\":{\"data\":{\"bar\":[{\"error_x\":{\"color\":\"#2a3f5f\"},\"error_y\":{\"color\":\"#2a3f5f\"},\"marker\":{\"line\":{\"color\":\"#E5ECF6\",\"width\":0.5},\"pattern\":{\"fillmode\":\"overlay\",\"size\":10,\"solidity\":0.2}},\"type\":\"bar\"}],\"barpolar\":[{\"marker\":{\"line\":{\"color\":\"#E5ECF6\",\"width\":0.5},\"pattern\":{\"fillmode\":\"overlay\",\"size\":10,\"solidity\":0.2}},\"type\":\"barpolar\"}],\"carpet\":[{\"aaxis\":{\"endlinecolor\":\"#2a3f5f\",\"gridcolor\":\"white\",\"linecolor\":\"white\",\"minorgridcolor\":\"white\",\"startlinecolor\":\"#2a3f5f\"},\"baxis\":{\"endlinecolor\":\"#2a3f5f\",\"gridcolor\":\"white\",\"linecolor\":\"white\",\"minorgridcolor\":\"white\",\"startlinecolor\":\"#2a3f5f\"},\"type\":\"carpet\"}],\"choropleth\":[{\"colorbar\":{\"outlinewidth\":0,\"ticks\":\"\"},\"type\":\"choropleth\"}],\"contour\":[{\"colorbar\":{\"outlinewidth\":0,\"ticks\":\"\"},\"colorscale\":[[0.0,\"#0d0887\"],[0.1111111111111111,\"#46039f\"],[0.2222222222222222,\"#7201a8\"],[0.3333333333333333,\"#9c179e\"],[0.4444444444444444,\"#bd3786\"],[0.5555555555555556,\"#d8576b\"],[0.6666666666666666,\"#ed7953\"],[0.7777777777777778,\"#fb9f3a\"],[0.8888888888888888,\"#fdca26\"],[1.0,\"#f0f921\"]],\"type\":\"contour\"}],\"contourcarpet\":[{\"colorbar\":{\"outlinewidth\":0,\"ticks\":\"\"},\"type\":\"contourcarpet\"}],\"heatmap\":[{\"colorbar\":{\"outlinewidth\":0,\"ticks\":\"\"},\"colorscale\":[[0.0,\"#0d0887\"],[0.1111111111111111,\"#46039f\"],[0.2222222222222222,\"#7201a8\"],[0.3333333333333333,\"#9c179e\"],[0.4444444444444444,\"#bd3786\"],[0.5555555555555556,\"#d8576b\"],[0.6666666666666666,\"#ed7953\"],[0.7777777777777778,\"#fb9f3a\"],[0.8888888888888888,\"#fdca26\"],[1.0,\"#f0f921\"]],\"type\":\"heatmap\"}],\"heatmapgl\":[{\"colorbar\":{\"outlinewidth\":0,\"ticks\":\"\"},\"colorscale\":[[0.0,\"#0d0887\"],[0.1111111111111111,\"#46039f\"],[0.2222222222222222,\"#7201a8\"],[0.3333333333333333,\"#9c179e\"],[0.4444444444444444,\"#bd3786\"],[0.5555555555555556,\"#d8576b\"],[0.6666666666666666,\"#ed7953\"],[0.7777777777777778,\"#fb9f3a\"],[0.8888888888888888,\"#fdca26\"],[1.0,\"#f0f921\"]],\"type\":\"heatmapgl\"}],\"histogram\":[{\"marker\":{\"pattern\":{\"fillmode\":\"overlay\",\"size\":10,\"solidity\":0.2}},\"type\":\"histogram\"}],\"histogram2d\":[{\"colorbar\":{\"outlinewidth\":0,\"ticks\":\"\"},\"colorscale\":[[0.0,\"#0d0887\"],[0.1111111111111111,\"#46039f\"],[0.2222222222222222,\"#7201a8\"],[0.3333333333333333,\"#9c179e\"],[0.4444444444444444,\"#bd3786\"],[0.5555555555555556,\"#d8576b\"],[0.6666666666666666,\"#ed7953\"],[0.7777777777777778,\"#fb9f3a\"],[0.8888888888888888,\"#fdca26\"],[1.0,\"#f0f921\"]],\"type\":\"histogram2d\"}],\"histogram2dcontour\":[{\"colorbar\":{\"outlinewidth\":0,\"ticks\":\"\"},\"colorscale\":[[0.0,\"#0d0887\"],[0.1111111111111111,\"#46039f\"],[0.2222222222222222,\"#7201a8\"],[0.3333333333333333,\"#9c179e\"],[0.4444444444444444,\"#bd3786\"],[0.5555555555555556,\"#d8576b\"],[0.6666666666666666,\"#ed7953\"],[0.7777777777777778,\"#fb9f3a\"],[0.8888888888888888,\"#fdca26\"],[1.0,\"#f0f921\"]],\"type\":\"histogram2dcontour\"}],\"mesh3d\":[{\"colorbar\":{\"outlinewidth\":0,\"ticks\":\"\"},\"type\":\"mesh3d\"}],\"parcoords\":[{\"line\":{\"colorbar\":{\"outlinewidth\":0,\"ticks\":\"\"}},\"type\":\"parcoords\"}],\"pie\":[{\"automargin\":true,\"type\":\"pie\"}],\"scatter\":[{\"marker\":{\"colorbar\":{\"outlinewidth\":0,\"ticks\":\"\"}},\"type\":\"scatter\"}],\"scatter3d\":[{\"line\":{\"colorbar\":{\"outlinewidth\":0,\"ticks\":\"\"}},\"marker\":{\"colorbar\":{\"outlinewidth\":0,\"ticks\":\"\"}},\"type\":\"scatter3d\"}],\"scattercarpet\":[{\"marker\":{\"colorbar\":{\"outlinewidth\":0,\"ticks\":\"\"}},\"type\":\"scattercarpet\"}],\"scattergeo\":[{\"marker\":{\"colorbar\":{\"outlinewidth\":0,\"ticks\":\"\"}},\"type\":\"scattergeo\"}],\"scattergl\":[{\"marker\":{\"colorbar\":{\"outlinewidth\":0,\"ticks\":\"\"}},\"type\":\"scattergl\"}],\"scattermapbox\":[{\"marker\":{\"colorbar\":{\"outlinewidth\":0,\"ticks\":\"\"}},\"type\":\"scattermapbox\"}],\"scatterpolar\":[{\"marker\":{\"colorbar\":{\"outlinewidth\":0,\"ticks\":\"\"}},\"type\":\"scatterpolar\"}],\"scatterpolargl\":[{\"marker\":{\"colorbar\":{\"outlinewidth\":0,\"ticks\":\"\"}},\"type\":\"scatterpolargl\"}],\"scatterternary\":[{\"marker\":{\"colorbar\":{\"outlinewidth\":0,\"ticks\":\"\"}},\"type\":\"scatterternary\"}],\"surface\":[{\"colorbar\":{\"outlinewidth\":0,\"ticks\":\"\"},\"colorscale\":[[0.0,\"#0d0887\"],[0.1111111111111111,\"#46039f\"],[0.2222222222222222,\"#7201a8\"],[0.3333333333333333,\"#9c179e\"],[0.4444444444444444,\"#bd3786\"],[0.5555555555555556,\"#d8576b\"],[0.6666666666666666,\"#ed7953\"],[0.7777777777777778,\"#fb9f3a\"],[0.8888888888888888,\"#fdca26\"],[1.0,\"#f0f921\"]],\"type\":\"surface\"}],\"table\":[{\"cells\":{\"fill\":{\"color\":\"#EBF0F8\"},\"line\":{\"color\":\"white\"}},\"header\":{\"fill\":{\"color\":\"#C8D4E3\"},\"line\":{\"color\":\"white\"}},\"type\":\"table\"}]},\"layout\":{\"annotationdefaults\":{\"arrowcolor\":\"#2a3f5f\",\"arrowhead\":0,\"arrowwidth\":1},\"autotypenumbers\":\"strict\",\"coloraxis\":{\"colorbar\":{\"outlinewidth\":0,\"ticks\":\"\"}},\"colorscale\":{\"diverging\":[[0,\"#8e0152\"],[0.1,\"#c51b7d\"],[0.2,\"#de77ae\"],[0.3,\"#f1b6da\"],[0.4,\"#fde0ef\"],[0.5,\"#f7f7f7\"],[0.6,\"#e6f5d0\"],[0.7,\"#b8e186\"],[0.8,\"#7fbc41\"],[0.9,\"#4d9221\"],[1,\"#276419\"]],\"sequential\":[[0.0,\"#0d0887\"],[0.1111111111111111,\"#46039f\"],[0.2222222222222222,\"#7201a8\"],[0.3333333333333333,\"#9c179e\"],[0.4444444444444444,\"#bd3786\"],[0.5555555555555556,\"#d8576b\"],[0.6666666666666666,\"#ed7953\"],[0.7777777777777778,\"#fb9f3a\"],[0.8888888888888888,\"#fdca26\"],[1.0,\"#f0f921\"]],\"sequentialminus\":[[0.0,\"#0d0887\"],[0.1111111111111111,\"#46039f\"],[0.2222222222222222,\"#7201a8\"],[0.3333333333333333,\"#9c179e\"],[0.4444444444444444,\"#bd3786\"],[0.5555555555555556,\"#d8576b\"],[0.6666666666666666,\"#ed7953\"],[0.7777777777777778,\"#fb9f3a\"],[0.8888888888888888,\"#fdca26\"],[1.0,\"#f0f921\"]]},\"colorway\":[\"#636efa\",\"#EF553B\",\"#00cc96\",\"#ab63fa\",\"#FFA15A\",\"#19d3f3\",\"#FF6692\",\"#B6E880\",\"#FF97FF\",\"#FECB52\"],\"font\":{\"color\":\"#2a3f5f\"},\"geo\":{\"bgcolor\":\"white\",\"lakecolor\":\"white\",\"landcolor\":\"#E5ECF6\",\"showlakes\":true,\"showland\":true,\"subunitcolor\":\"white\"},\"hoverlabel\":{\"align\":\"left\"},\"hovermode\":\"closest\",\"mapbox\":{\"style\":\"light\"},\"paper_bgcolor\":\"white\",\"plot_bgcolor\":\"#E5ECF6\",\"polar\":{\"angularaxis\":{\"gridcolor\":\"white\",\"linecolor\":\"white\",\"ticks\":\"\"},\"bgcolor\":\"#E5ECF6\",\"radialaxis\":{\"gridcolor\":\"white\",\"linecolor\":\"white\",\"ticks\":\"\"}},\"scene\":{\"xaxis\":{\"backgroundcolor\":\"#E5ECF6\",\"gridcolor\":\"white\",\"gridwidth\":2,\"linecolor\":\"white\",\"showbackground\":true,\"ticks\":\"\",\"zerolinecolor\":\"white\"},\"yaxis\":{\"backgroundcolor\":\"#E5ECF6\",\"gridcolor\":\"white\",\"gridwidth\":2,\"linecolor\":\"white\",\"showbackground\":true,\"ticks\":\"\",\"zerolinecolor\":\"white\"},\"zaxis\":{\"backgroundcolor\":\"#E5ECF6\",\"gridcolor\":\"white\",\"gridwidth\":2,\"linecolor\":\"white\",\"showbackground\":true,\"ticks\":\"\",\"zerolinecolor\":\"white\"}},\"shapedefaults\":{\"line\":{\"color\":\"#2a3f5f\"}},\"ternary\":{\"aaxis\":{\"gridcolor\":\"white\",\"linecolor\":\"white\",\"ticks\":\"\"},\"baxis\":{\"gridcolor\":\"white\",\"linecolor\":\"white\",\"ticks\":\"\"},\"bgcolor\":\"#E5ECF6\",\"caxis\":{\"gridcolor\":\"white\",\"linecolor\":\"white\",\"ticks\":\"\"}},\"title\":{\"x\":0.05},\"xaxis\":{\"automargin\":true,\"gridcolor\":\"white\",\"linecolor\":\"white\",\"ticks\":\"\",\"title\":{\"standoff\":15},\"zerolinecolor\":\"white\",\"zerolinewidth\":2},\"yaxis\":{\"automargin\":true,\"gridcolor\":\"white\",\"linecolor\":\"white\",\"ticks\":\"\",\"title\":{\"standoff\":15},\"zerolinecolor\":\"white\",\"zerolinewidth\":2}}},\"xaxis\":{\"anchor\":\"y\",\"domain\":[0.0,1.0],\"title\":{\"text\":\"Porosity [-]\"}},\"yaxis\":{\"anchor\":\"x\",\"domain\":[0.0,1.0],\"title\":{\"text\":\"FSF < 2 mm [%]\"}},\"legend\":{\"title\":{\"text\":\"Location\"},\"tracegroupgap\":0,\"itemsizing\":\"constant\"},\"margin\":{\"t\":60}},                        {\"responsive\": true}                    ).then(function(){\n",
       "                            \n",
       "var gd = document.getElementById('5d000970-2d31-4720-ba04-876de80dcc9e');\n",
       "var x = new MutationObserver(function (mutations, observer) {{\n",
       "        var display = window.getComputedStyle(gd).display;\n",
       "        if (!display || display === 'none') {{\n",
       "            console.log([gd, 'removed!']);\n",
       "            Plotly.purge(gd);\n",
       "            observer.disconnect();\n",
       "        }}\n",
       "}});\n",
       "\n",
       "// Listen for the removal of the full notebook cells\n",
       "var notebookContainer = gd.closest('#notebook-container');\n",
       "if (notebookContainer) {{\n",
       "    x.observe(notebookContainer, {childList: true});\n",
       "}}\n",
       "\n",
       "// Listen for the clearing of the current output cell\n",
       "var outputEl = gd.closest('.output');\n",
       "if (outputEl) {{\n",
       "    x.observe(outputEl, {childList: true});\n",
       "}}\n",
       "\n",
       "                        })                };                });            </script>        </div>"
      ]
     },
     "metadata": {},
     "output_type": "display_data"
    }
   ],
   "source": [
    "px.scatter(df[df['Sample']=='FP'], x='Wooster et al. (2008) [Porosity]', \n",
    "           y='2', color='Location', \n",
    "           hover_data=['sample name'], \n",
    "           size='Mean Grain Size dm [mm]',\n",
    "           labels={'Wooster et al. (2008) [Porosity]':'Porosity [-]',\n",
    "                  '2': 'FSF < 2 mm [%]'})"
   ]
  },
  {
   "cell_type": "markdown",
   "metadata": {},
   "source": [
    "## Changes in Freeze Core Samples"
   ]
  },
  {
   "cell_type": "code",
   "execution_count": 8,
   "metadata": {},
   "outputs": [
    {
     "data": {
      "application/vnd.plotly.v1+json": {
       "config": {
        "plotlyServerURL": "https://plot.ly"
       },
       "data": [
        {
         "customdata": [
          [
           "FC-B1 BEFORE"
          ],
          [
           "FC-B2 AFTER"
          ],
          [
           "FC-B2 BEFORE"
          ],
          [
           "FC-B1 AFTER"
          ]
         ],
         "hovertemplate": "Location=B<br>Porosity [-]=%{x}<br>FSF < 2 mm [%]=%{y}<br>Mean Grain Size dm [mm]=%{marker.size}<br>sample name=%{customdata[0]}<extra></extra>",
         "legendgroup": "B",
         "marker": {
          "color": "#636efa",
          "size": [
           25.90953354,
           20.89157489,
           19.61829404,
           20.0770924
          ],
          "sizemode": "area",
          "sizeref": 0.06477383385,
          "symbol": "circle"
         },
         "mode": "markers",
         "name": "B",
         "orientation": "v",
         "showlegend": true,
         "type": "scatter",
         "x": [
          0.199392242,
          0.189986418,
          0.195214063,
          0.211044117
         ],
         "xaxis": "x",
         "y": [
          15.78852724,
          19.65532286,
          18.67917847,
          16.38111158
         ],
         "yaxis": "y"
        },
        {
         "customdata": [
          [
           "FC-RP BEFORE"
          ],
          [
           "FC-RP AFTER"
          ]
         ],
         "hovertemplate": "Location=RP<br>Porosity [-]=%{x}<br>FSF < 2 mm [%]=%{y}<br>Mean Grain Size dm [mm]=%{marker.size}<br>sample name=%{customdata[0]}<extra></extra>",
         "legendgroup": "RP",
         "marker": {
          "color": "#EF553B",
          "size": [
           15.14526092,
           17.18377125
          ],
          "sizemode": "area",
          "sizeref": 0.06477383385,
          "symbol": "circle"
         },
         "mode": "markers",
         "name": "RP",
         "orientation": "v",
         "showlegend": true,
         "type": "scatter",
         "x": [
          0.20736887,
          0.197577875
         ],
         "xaxis": "x",
         "y": [
          29.31783163,
          22.66887692
         ],
         "yaxis": "y"
        },
        {
         "customdata": [
          [
           "FC-A1 BEFORE"
          ],
          [
           "FC-A2 BEFORE"
          ],
          [
           "FC-A1 AFTER"
          ],
          [
           "FC-A2 AFTER"
          ]
         ],
         "hovertemplate": "Location=A<br>Porosity [-]=%{x}<br>FSF < 2 mm [%]=%{y}<br>Mean Grain Size dm [mm]=%{marker.size}<br>sample name=%{customdata[0]}<extra></extra>",
         "legendgroup": "A",
         "marker": {
          "color": "#00cc96",
          "size": [
           17.75850622,
           14.87818242,
           23.97407932,
           14.16197396
          ],
          "sizemode": "area",
          "sizeref": 0.06477383385,
          "symbol": "circle"
         },
         "mode": "markers",
         "name": "A",
         "orientation": "v",
         "showlegend": true,
         "type": "scatter",
         "x": [
          0.142106779,
          0.141619999,
          0.159179467,
          0.150062295
         ],
         "xaxis": "x",
         "y": [
          31.97018533,
          37.1850252,
          24.3174372,
          32.84407167
         ],
         "yaxis": "y"
        }
       ],
       "layout": {
        "legend": {
         "itemsizing": "constant",
         "title": {
          "text": "Location"
         },
         "tracegroupgap": 0
        },
        "margin": {
         "t": 60
        },
        "template": {
         "data": {
          "bar": [
           {
            "error_x": {
             "color": "#2a3f5f"
            },
            "error_y": {
             "color": "#2a3f5f"
            },
            "marker": {
             "line": {
              "color": "#E5ECF6",
              "width": 0.5
             },
             "pattern": {
              "fillmode": "overlay",
              "size": 10,
              "solidity": 0.2
             }
            },
            "type": "bar"
           }
          ],
          "barpolar": [
           {
            "marker": {
             "line": {
              "color": "#E5ECF6",
              "width": 0.5
             },
             "pattern": {
              "fillmode": "overlay",
              "size": 10,
              "solidity": 0.2
             }
            },
            "type": "barpolar"
           }
          ],
          "carpet": [
           {
            "aaxis": {
             "endlinecolor": "#2a3f5f",
             "gridcolor": "white",
             "linecolor": "white",
             "minorgridcolor": "white",
             "startlinecolor": "#2a3f5f"
            },
            "baxis": {
             "endlinecolor": "#2a3f5f",
             "gridcolor": "white",
             "linecolor": "white",
             "minorgridcolor": "white",
             "startlinecolor": "#2a3f5f"
            },
            "type": "carpet"
           }
          ],
          "choropleth": [
           {
            "colorbar": {
             "outlinewidth": 0,
             "ticks": ""
            },
            "type": "choropleth"
           }
          ],
          "contour": [
           {
            "colorbar": {
             "outlinewidth": 0,
             "ticks": ""
            },
            "colorscale": [
             [
              0,
              "#0d0887"
             ],
             [
              0.1111111111111111,
              "#46039f"
             ],
             [
              0.2222222222222222,
              "#7201a8"
             ],
             [
              0.3333333333333333,
              "#9c179e"
             ],
             [
              0.4444444444444444,
              "#bd3786"
             ],
             [
              0.5555555555555556,
              "#d8576b"
             ],
             [
              0.6666666666666666,
              "#ed7953"
             ],
             [
              0.7777777777777778,
              "#fb9f3a"
             ],
             [
              0.8888888888888888,
              "#fdca26"
             ],
             [
              1,
              "#f0f921"
             ]
            ],
            "type": "contour"
           }
          ],
          "contourcarpet": [
           {
            "colorbar": {
             "outlinewidth": 0,
             "ticks": ""
            },
            "type": "contourcarpet"
           }
          ],
          "heatmap": [
           {
            "colorbar": {
             "outlinewidth": 0,
             "ticks": ""
            },
            "colorscale": [
             [
              0,
              "#0d0887"
             ],
             [
              0.1111111111111111,
              "#46039f"
             ],
             [
              0.2222222222222222,
              "#7201a8"
             ],
             [
              0.3333333333333333,
              "#9c179e"
             ],
             [
              0.4444444444444444,
              "#bd3786"
             ],
             [
              0.5555555555555556,
              "#d8576b"
             ],
             [
              0.6666666666666666,
              "#ed7953"
             ],
             [
              0.7777777777777778,
              "#fb9f3a"
             ],
             [
              0.8888888888888888,
              "#fdca26"
             ],
             [
              1,
              "#f0f921"
             ]
            ],
            "type": "heatmap"
           }
          ],
          "heatmapgl": [
           {
            "colorbar": {
             "outlinewidth": 0,
             "ticks": ""
            },
            "colorscale": [
             [
              0,
              "#0d0887"
             ],
             [
              0.1111111111111111,
              "#46039f"
             ],
             [
              0.2222222222222222,
              "#7201a8"
             ],
             [
              0.3333333333333333,
              "#9c179e"
             ],
             [
              0.4444444444444444,
              "#bd3786"
             ],
             [
              0.5555555555555556,
              "#d8576b"
             ],
             [
              0.6666666666666666,
              "#ed7953"
             ],
             [
              0.7777777777777778,
              "#fb9f3a"
             ],
             [
              0.8888888888888888,
              "#fdca26"
             ],
             [
              1,
              "#f0f921"
             ]
            ],
            "type": "heatmapgl"
           }
          ],
          "histogram": [
           {
            "marker": {
             "pattern": {
              "fillmode": "overlay",
              "size": 10,
              "solidity": 0.2
             }
            },
            "type": "histogram"
           }
          ],
          "histogram2d": [
           {
            "colorbar": {
             "outlinewidth": 0,
             "ticks": ""
            },
            "colorscale": [
             [
              0,
              "#0d0887"
             ],
             [
              0.1111111111111111,
              "#46039f"
             ],
             [
              0.2222222222222222,
              "#7201a8"
             ],
             [
              0.3333333333333333,
              "#9c179e"
             ],
             [
              0.4444444444444444,
              "#bd3786"
             ],
             [
              0.5555555555555556,
              "#d8576b"
             ],
             [
              0.6666666666666666,
              "#ed7953"
             ],
             [
              0.7777777777777778,
              "#fb9f3a"
             ],
             [
              0.8888888888888888,
              "#fdca26"
             ],
             [
              1,
              "#f0f921"
             ]
            ],
            "type": "histogram2d"
           }
          ],
          "histogram2dcontour": [
           {
            "colorbar": {
             "outlinewidth": 0,
             "ticks": ""
            },
            "colorscale": [
             [
              0,
              "#0d0887"
             ],
             [
              0.1111111111111111,
              "#46039f"
             ],
             [
              0.2222222222222222,
              "#7201a8"
             ],
             [
              0.3333333333333333,
              "#9c179e"
             ],
             [
              0.4444444444444444,
              "#bd3786"
             ],
             [
              0.5555555555555556,
              "#d8576b"
             ],
             [
              0.6666666666666666,
              "#ed7953"
             ],
             [
              0.7777777777777778,
              "#fb9f3a"
             ],
             [
              0.8888888888888888,
              "#fdca26"
             ],
             [
              1,
              "#f0f921"
             ]
            ],
            "type": "histogram2dcontour"
           }
          ],
          "mesh3d": [
           {
            "colorbar": {
             "outlinewidth": 0,
             "ticks": ""
            },
            "type": "mesh3d"
           }
          ],
          "parcoords": [
           {
            "line": {
             "colorbar": {
              "outlinewidth": 0,
              "ticks": ""
             }
            },
            "type": "parcoords"
           }
          ],
          "pie": [
           {
            "automargin": true,
            "type": "pie"
           }
          ],
          "scatter": [
           {
            "marker": {
             "colorbar": {
              "outlinewidth": 0,
              "ticks": ""
             }
            },
            "type": "scatter"
           }
          ],
          "scatter3d": [
           {
            "line": {
             "colorbar": {
              "outlinewidth": 0,
              "ticks": ""
             }
            },
            "marker": {
             "colorbar": {
              "outlinewidth": 0,
              "ticks": ""
             }
            },
            "type": "scatter3d"
           }
          ],
          "scattercarpet": [
           {
            "marker": {
             "colorbar": {
              "outlinewidth": 0,
              "ticks": ""
             }
            },
            "type": "scattercarpet"
           }
          ],
          "scattergeo": [
           {
            "marker": {
             "colorbar": {
              "outlinewidth": 0,
              "ticks": ""
             }
            },
            "type": "scattergeo"
           }
          ],
          "scattergl": [
           {
            "marker": {
             "colorbar": {
              "outlinewidth": 0,
              "ticks": ""
             }
            },
            "type": "scattergl"
           }
          ],
          "scattermapbox": [
           {
            "marker": {
             "colorbar": {
              "outlinewidth": 0,
              "ticks": ""
             }
            },
            "type": "scattermapbox"
           }
          ],
          "scatterpolar": [
           {
            "marker": {
             "colorbar": {
              "outlinewidth": 0,
              "ticks": ""
             }
            },
            "type": "scatterpolar"
           }
          ],
          "scatterpolargl": [
           {
            "marker": {
             "colorbar": {
              "outlinewidth": 0,
              "ticks": ""
             }
            },
            "type": "scatterpolargl"
           }
          ],
          "scatterternary": [
           {
            "marker": {
             "colorbar": {
              "outlinewidth": 0,
              "ticks": ""
             }
            },
            "type": "scatterternary"
           }
          ],
          "surface": [
           {
            "colorbar": {
             "outlinewidth": 0,
             "ticks": ""
            },
            "colorscale": [
             [
              0,
              "#0d0887"
             ],
             [
              0.1111111111111111,
              "#46039f"
             ],
             [
              0.2222222222222222,
              "#7201a8"
             ],
             [
              0.3333333333333333,
              "#9c179e"
             ],
             [
              0.4444444444444444,
              "#bd3786"
             ],
             [
              0.5555555555555556,
              "#d8576b"
             ],
             [
              0.6666666666666666,
              "#ed7953"
             ],
             [
              0.7777777777777778,
              "#fb9f3a"
             ],
             [
              0.8888888888888888,
              "#fdca26"
             ],
             [
              1,
              "#f0f921"
             ]
            ],
            "type": "surface"
           }
          ],
          "table": [
           {
            "cells": {
             "fill": {
              "color": "#EBF0F8"
             },
             "line": {
              "color": "white"
             }
            },
            "header": {
             "fill": {
              "color": "#C8D4E3"
             },
             "line": {
              "color": "white"
             }
            },
            "type": "table"
           }
          ]
         },
         "layout": {
          "annotationdefaults": {
           "arrowcolor": "#2a3f5f",
           "arrowhead": 0,
           "arrowwidth": 1
          },
          "autotypenumbers": "strict",
          "coloraxis": {
           "colorbar": {
            "outlinewidth": 0,
            "ticks": ""
           }
          },
          "colorscale": {
           "diverging": [
            [
             0,
             "#8e0152"
            ],
            [
             0.1,
             "#c51b7d"
            ],
            [
             0.2,
             "#de77ae"
            ],
            [
             0.3,
             "#f1b6da"
            ],
            [
             0.4,
             "#fde0ef"
            ],
            [
             0.5,
             "#f7f7f7"
            ],
            [
             0.6,
             "#e6f5d0"
            ],
            [
             0.7,
             "#b8e186"
            ],
            [
             0.8,
             "#7fbc41"
            ],
            [
             0.9,
             "#4d9221"
            ],
            [
             1,
             "#276419"
            ]
           ],
           "sequential": [
            [
             0,
             "#0d0887"
            ],
            [
             0.1111111111111111,
             "#46039f"
            ],
            [
             0.2222222222222222,
             "#7201a8"
            ],
            [
             0.3333333333333333,
             "#9c179e"
            ],
            [
             0.4444444444444444,
             "#bd3786"
            ],
            [
             0.5555555555555556,
             "#d8576b"
            ],
            [
             0.6666666666666666,
             "#ed7953"
            ],
            [
             0.7777777777777778,
             "#fb9f3a"
            ],
            [
             0.8888888888888888,
             "#fdca26"
            ],
            [
             1,
             "#f0f921"
            ]
           ],
           "sequentialminus": [
            [
             0,
             "#0d0887"
            ],
            [
             0.1111111111111111,
             "#46039f"
            ],
            [
             0.2222222222222222,
             "#7201a8"
            ],
            [
             0.3333333333333333,
             "#9c179e"
            ],
            [
             0.4444444444444444,
             "#bd3786"
            ],
            [
             0.5555555555555556,
             "#d8576b"
            ],
            [
             0.6666666666666666,
             "#ed7953"
            ],
            [
             0.7777777777777778,
             "#fb9f3a"
            ],
            [
             0.8888888888888888,
             "#fdca26"
            ],
            [
             1,
             "#f0f921"
            ]
           ]
          },
          "colorway": [
           "#636efa",
           "#EF553B",
           "#00cc96",
           "#ab63fa",
           "#FFA15A",
           "#19d3f3",
           "#FF6692",
           "#B6E880",
           "#FF97FF",
           "#FECB52"
          ],
          "font": {
           "color": "#2a3f5f"
          },
          "geo": {
           "bgcolor": "white",
           "lakecolor": "white",
           "landcolor": "#E5ECF6",
           "showlakes": true,
           "showland": true,
           "subunitcolor": "white"
          },
          "hoverlabel": {
           "align": "left"
          },
          "hovermode": "closest",
          "mapbox": {
           "style": "light"
          },
          "paper_bgcolor": "white",
          "plot_bgcolor": "#E5ECF6",
          "polar": {
           "angularaxis": {
            "gridcolor": "white",
            "linecolor": "white",
            "ticks": ""
           },
           "bgcolor": "#E5ECF6",
           "radialaxis": {
            "gridcolor": "white",
            "linecolor": "white",
            "ticks": ""
           }
          },
          "scene": {
           "xaxis": {
            "backgroundcolor": "#E5ECF6",
            "gridcolor": "white",
            "gridwidth": 2,
            "linecolor": "white",
            "showbackground": true,
            "ticks": "",
            "zerolinecolor": "white"
           },
           "yaxis": {
            "backgroundcolor": "#E5ECF6",
            "gridcolor": "white",
            "gridwidth": 2,
            "linecolor": "white",
            "showbackground": true,
            "ticks": "",
            "zerolinecolor": "white"
           },
           "zaxis": {
            "backgroundcolor": "#E5ECF6",
            "gridcolor": "white",
            "gridwidth": 2,
            "linecolor": "white",
            "showbackground": true,
            "ticks": "",
            "zerolinecolor": "white"
           }
          },
          "shapedefaults": {
           "line": {
            "color": "#2a3f5f"
           }
          },
          "ternary": {
           "aaxis": {
            "gridcolor": "white",
            "linecolor": "white",
            "ticks": ""
           },
           "baxis": {
            "gridcolor": "white",
            "linecolor": "white",
            "ticks": ""
           },
           "bgcolor": "#E5ECF6",
           "caxis": {
            "gridcolor": "white",
            "linecolor": "white",
            "ticks": ""
           }
          },
          "title": {
           "x": 0.05
          },
          "xaxis": {
           "automargin": true,
           "gridcolor": "white",
           "linecolor": "white",
           "ticks": "",
           "title": {
            "standoff": 15
           },
           "zerolinecolor": "white",
           "zerolinewidth": 2
          },
          "yaxis": {
           "automargin": true,
           "gridcolor": "white",
           "linecolor": "white",
           "ticks": "",
           "title": {
            "standoff": 15
           },
           "zerolinecolor": "white",
           "zerolinewidth": 2
          }
         }
        },
        "xaxis": {
         "anchor": "y",
         "domain": [
          0,
          1
         ],
         "title": {
          "text": "Porosity [-]"
         }
        },
        "yaxis": {
         "anchor": "x",
         "domain": [
          0,
          1
         ],
         "title": {
          "text": "FSF < 2 mm [%]"
         }
        }
       }
      },
      "text/html": [
       "<div>                            <div id=\"98bb9a3e-3f7f-4af3-a02c-a8464edca52e\" class=\"plotly-graph-div\" style=\"height:525px; width:100%;\"></div>            <script type=\"text/javascript\">                require([\"plotly\"], function(Plotly) {                    window.PLOTLYENV=window.PLOTLYENV || {};                                    if (document.getElementById(\"98bb9a3e-3f7f-4af3-a02c-a8464edca52e\")) {                    Plotly.newPlot(                        \"98bb9a3e-3f7f-4af3-a02c-a8464edca52e\",                        [{\"customdata\":[[\"FC-B1 BEFORE\"],[\"FC-B2 AFTER\"],[\"FC-B2 BEFORE\"],[\"FC-B1 AFTER\"]],\"hovertemplate\":\"Location=B<br>Porosity [-]=%{x}<br>FSF < 2 mm [%]=%{y}<br>Mean Grain Size dm [mm]=%{marker.size}<br>sample name=%{customdata[0]}<extra></extra>\",\"legendgroup\":\"B\",\"marker\":{\"color\":\"#636efa\",\"size\":[25.90953354,20.89157489,19.61829404,20.0770924],\"sizemode\":\"area\",\"sizeref\":0.06477383385,\"symbol\":\"circle\"},\"mode\":\"markers\",\"name\":\"B\",\"orientation\":\"v\",\"showlegend\":true,\"x\":[0.199392242,0.189986418,0.195214063,0.211044117],\"xaxis\":\"x\",\"y\":[15.78852724,19.65532286,18.67917847,16.38111158],\"yaxis\":\"y\",\"type\":\"scatter\"},{\"customdata\":[[\"FC-RP BEFORE\"],[\"FC-RP AFTER\"]],\"hovertemplate\":\"Location=RP<br>Porosity [-]=%{x}<br>FSF < 2 mm [%]=%{y}<br>Mean Grain Size dm [mm]=%{marker.size}<br>sample name=%{customdata[0]}<extra></extra>\",\"legendgroup\":\"RP\",\"marker\":{\"color\":\"#EF553B\",\"size\":[15.14526092,17.18377125],\"sizemode\":\"area\",\"sizeref\":0.06477383385,\"symbol\":\"circle\"},\"mode\":\"markers\",\"name\":\"RP\",\"orientation\":\"v\",\"showlegend\":true,\"x\":[0.20736887,0.197577875],\"xaxis\":\"x\",\"y\":[29.31783163,22.66887692],\"yaxis\":\"y\",\"type\":\"scatter\"},{\"customdata\":[[\"FC-A1 BEFORE\"],[\"FC-A2 BEFORE\"],[\"FC-A1 AFTER\"],[\"FC-A2 AFTER\"]],\"hovertemplate\":\"Location=A<br>Porosity [-]=%{x}<br>FSF < 2 mm [%]=%{y}<br>Mean Grain Size dm [mm]=%{marker.size}<br>sample name=%{customdata[0]}<extra></extra>\",\"legendgroup\":\"A\",\"marker\":{\"color\":\"#00cc96\",\"size\":[17.75850622,14.87818242,23.97407932,14.16197396],\"sizemode\":\"area\",\"sizeref\":0.06477383385,\"symbol\":\"circle\"},\"mode\":\"markers\",\"name\":\"A\",\"orientation\":\"v\",\"showlegend\":true,\"x\":[0.142106779,0.141619999,0.159179467,0.150062295],\"xaxis\":\"x\",\"y\":[31.97018533,37.1850252,24.3174372,32.84407167],\"yaxis\":\"y\",\"type\":\"scatter\"}],                        {\"template\":{\"data\":{\"bar\":[{\"error_x\":{\"color\":\"#2a3f5f\"},\"error_y\":{\"color\":\"#2a3f5f\"},\"marker\":{\"line\":{\"color\":\"#E5ECF6\",\"width\":0.5},\"pattern\":{\"fillmode\":\"overlay\",\"size\":10,\"solidity\":0.2}},\"type\":\"bar\"}],\"barpolar\":[{\"marker\":{\"line\":{\"color\":\"#E5ECF6\",\"width\":0.5},\"pattern\":{\"fillmode\":\"overlay\",\"size\":10,\"solidity\":0.2}},\"type\":\"barpolar\"}],\"carpet\":[{\"aaxis\":{\"endlinecolor\":\"#2a3f5f\",\"gridcolor\":\"white\",\"linecolor\":\"white\",\"minorgridcolor\":\"white\",\"startlinecolor\":\"#2a3f5f\"},\"baxis\":{\"endlinecolor\":\"#2a3f5f\",\"gridcolor\":\"white\",\"linecolor\":\"white\",\"minorgridcolor\":\"white\",\"startlinecolor\":\"#2a3f5f\"},\"type\":\"carpet\"}],\"choropleth\":[{\"colorbar\":{\"outlinewidth\":0,\"ticks\":\"\"},\"type\":\"choropleth\"}],\"contour\":[{\"colorbar\":{\"outlinewidth\":0,\"ticks\":\"\"},\"colorscale\":[[0.0,\"#0d0887\"],[0.1111111111111111,\"#46039f\"],[0.2222222222222222,\"#7201a8\"],[0.3333333333333333,\"#9c179e\"],[0.4444444444444444,\"#bd3786\"],[0.5555555555555556,\"#d8576b\"],[0.6666666666666666,\"#ed7953\"],[0.7777777777777778,\"#fb9f3a\"],[0.8888888888888888,\"#fdca26\"],[1.0,\"#f0f921\"]],\"type\":\"contour\"}],\"contourcarpet\":[{\"colorbar\":{\"outlinewidth\":0,\"ticks\":\"\"},\"type\":\"contourcarpet\"}],\"heatmap\":[{\"colorbar\":{\"outlinewidth\":0,\"ticks\":\"\"},\"colorscale\":[[0.0,\"#0d0887\"],[0.1111111111111111,\"#46039f\"],[0.2222222222222222,\"#7201a8\"],[0.3333333333333333,\"#9c179e\"],[0.4444444444444444,\"#bd3786\"],[0.5555555555555556,\"#d8576b\"],[0.6666666666666666,\"#ed7953\"],[0.7777777777777778,\"#fb9f3a\"],[0.8888888888888888,\"#fdca26\"],[1.0,\"#f0f921\"]],\"type\":\"heatmap\"}],\"heatmapgl\":[{\"colorbar\":{\"outlinewidth\":0,\"ticks\":\"\"},\"colorscale\":[[0.0,\"#0d0887\"],[0.1111111111111111,\"#46039f\"],[0.2222222222222222,\"#7201a8\"],[0.3333333333333333,\"#9c179e\"],[0.4444444444444444,\"#bd3786\"],[0.5555555555555556,\"#d8576b\"],[0.6666666666666666,\"#ed7953\"],[0.7777777777777778,\"#fb9f3a\"],[0.8888888888888888,\"#fdca26\"],[1.0,\"#f0f921\"]],\"type\":\"heatmapgl\"}],\"histogram\":[{\"marker\":{\"pattern\":{\"fillmode\":\"overlay\",\"size\":10,\"solidity\":0.2}},\"type\":\"histogram\"}],\"histogram2d\":[{\"colorbar\":{\"outlinewidth\":0,\"ticks\":\"\"},\"colorscale\":[[0.0,\"#0d0887\"],[0.1111111111111111,\"#46039f\"],[0.2222222222222222,\"#7201a8\"],[0.3333333333333333,\"#9c179e\"],[0.4444444444444444,\"#bd3786\"],[0.5555555555555556,\"#d8576b\"],[0.6666666666666666,\"#ed7953\"],[0.7777777777777778,\"#fb9f3a\"],[0.8888888888888888,\"#fdca26\"],[1.0,\"#f0f921\"]],\"type\":\"histogram2d\"}],\"histogram2dcontour\":[{\"colorbar\":{\"outlinewidth\":0,\"ticks\":\"\"},\"colorscale\":[[0.0,\"#0d0887\"],[0.1111111111111111,\"#46039f\"],[0.2222222222222222,\"#7201a8\"],[0.3333333333333333,\"#9c179e\"],[0.4444444444444444,\"#bd3786\"],[0.5555555555555556,\"#d8576b\"],[0.6666666666666666,\"#ed7953\"],[0.7777777777777778,\"#fb9f3a\"],[0.8888888888888888,\"#fdca26\"],[1.0,\"#f0f921\"]],\"type\":\"histogram2dcontour\"}],\"mesh3d\":[{\"colorbar\":{\"outlinewidth\":0,\"ticks\":\"\"},\"type\":\"mesh3d\"}],\"parcoords\":[{\"line\":{\"colorbar\":{\"outlinewidth\":0,\"ticks\":\"\"}},\"type\":\"parcoords\"}],\"pie\":[{\"automargin\":true,\"type\":\"pie\"}],\"scatter\":[{\"marker\":{\"colorbar\":{\"outlinewidth\":0,\"ticks\":\"\"}},\"type\":\"scatter\"}],\"scatter3d\":[{\"line\":{\"colorbar\":{\"outlinewidth\":0,\"ticks\":\"\"}},\"marker\":{\"colorbar\":{\"outlinewidth\":0,\"ticks\":\"\"}},\"type\":\"scatter3d\"}],\"scattercarpet\":[{\"marker\":{\"colorbar\":{\"outlinewidth\":0,\"ticks\":\"\"}},\"type\":\"scattercarpet\"}],\"scattergeo\":[{\"marker\":{\"colorbar\":{\"outlinewidth\":0,\"ticks\":\"\"}},\"type\":\"scattergeo\"}],\"scattergl\":[{\"marker\":{\"colorbar\":{\"outlinewidth\":0,\"ticks\":\"\"}},\"type\":\"scattergl\"}],\"scattermapbox\":[{\"marker\":{\"colorbar\":{\"outlinewidth\":0,\"ticks\":\"\"}},\"type\":\"scattermapbox\"}],\"scatterpolar\":[{\"marker\":{\"colorbar\":{\"outlinewidth\":0,\"ticks\":\"\"}},\"type\":\"scatterpolar\"}],\"scatterpolargl\":[{\"marker\":{\"colorbar\":{\"outlinewidth\":0,\"ticks\":\"\"}},\"type\":\"scatterpolargl\"}],\"scatterternary\":[{\"marker\":{\"colorbar\":{\"outlinewidth\":0,\"ticks\":\"\"}},\"type\":\"scatterternary\"}],\"surface\":[{\"colorbar\":{\"outlinewidth\":0,\"ticks\":\"\"},\"colorscale\":[[0.0,\"#0d0887\"],[0.1111111111111111,\"#46039f\"],[0.2222222222222222,\"#7201a8\"],[0.3333333333333333,\"#9c179e\"],[0.4444444444444444,\"#bd3786\"],[0.5555555555555556,\"#d8576b\"],[0.6666666666666666,\"#ed7953\"],[0.7777777777777778,\"#fb9f3a\"],[0.8888888888888888,\"#fdca26\"],[1.0,\"#f0f921\"]],\"type\":\"surface\"}],\"table\":[{\"cells\":{\"fill\":{\"color\":\"#EBF0F8\"},\"line\":{\"color\":\"white\"}},\"header\":{\"fill\":{\"color\":\"#C8D4E3\"},\"line\":{\"color\":\"white\"}},\"type\":\"table\"}]},\"layout\":{\"annotationdefaults\":{\"arrowcolor\":\"#2a3f5f\",\"arrowhead\":0,\"arrowwidth\":1},\"autotypenumbers\":\"strict\",\"coloraxis\":{\"colorbar\":{\"outlinewidth\":0,\"ticks\":\"\"}},\"colorscale\":{\"diverging\":[[0,\"#8e0152\"],[0.1,\"#c51b7d\"],[0.2,\"#de77ae\"],[0.3,\"#f1b6da\"],[0.4,\"#fde0ef\"],[0.5,\"#f7f7f7\"],[0.6,\"#e6f5d0\"],[0.7,\"#b8e186\"],[0.8,\"#7fbc41\"],[0.9,\"#4d9221\"],[1,\"#276419\"]],\"sequential\":[[0.0,\"#0d0887\"],[0.1111111111111111,\"#46039f\"],[0.2222222222222222,\"#7201a8\"],[0.3333333333333333,\"#9c179e\"],[0.4444444444444444,\"#bd3786\"],[0.5555555555555556,\"#d8576b\"],[0.6666666666666666,\"#ed7953\"],[0.7777777777777778,\"#fb9f3a\"],[0.8888888888888888,\"#fdca26\"],[1.0,\"#f0f921\"]],\"sequentialminus\":[[0.0,\"#0d0887\"],[0.1111111111111111,\"#46039f\"],[0.2222222222222222,\"#7201a8\"],[0.3333333333333333,\"#9c179e\"],[0.4444444444444444,\"#bd3786\"],[0.5555555555555556,\"#d8576b\"],[0.6666666666666666,\"#ed7953\"],[0.7777777777777778,\"#fb9f3a\"],[0.8888888888888888,\"#fdca26\"],[1.0,\"#f0f921\"]]},\"colorway\":[\"#636efa\",\"#EF553B\",\"#00cc96\",\"#ab63fa\",\"#FFA15A\",\"#19d3f3\",\"#FF6692\",\"#B6E880\",\"#FF97FF\",\"#FECB52\"],\"font\":{\"color\":\"#2a3f5f\"},\"geo\":{\"bgcolor\":\"white\",\"lakecolor\":\"white\",\"landcolor\":\"#E5ECF6\",\"showlakes\":true,\"showland\":true,\"subunitcolor\":\"white\"},\"hoverlabel\":{\"align\":\"left\"},\"hovermode\":\"closest\",\"mapbox\":{\"style\":\"light\"},\"paper_bgcolor\":\"white\",\"plot_bgcolor\":\"#E5ECF6\",\"polar\":{\"angularaxis\":{\"gridcolor\":\"white\",\"linecolor\":\"white\",\"ticks\":\"\"},\"bgcolor\":\"#E5ECF6\",\"radialaxis\":{\"gridcolor\":\"white\",\"linecolor\":\"white\",\"ticks\":\"\"}},\"scene\":{\"xaxis\":{\"backgroundcolor\":\"#E5ECF6\",\"gridcolor\":\"white\",\"gridwidth\":2,\"linecolor\":\"white\",\"showbackground\":true,\"ticks\":\"\",\"zerolinecolor\":\"white\"},\"yaxis\":{\"backgroundcolor\":\"#E5ECF6\",\"gridcolor\":\"white\",\"gridwidth\":2,\"linecolor\":\"white\",\"showbackground\":true,\"ticks\":\"\",\"zerolinecolor\":\"white\"},\"zaxis\":{\"backgroundcolor\":\"#E5ECF6\",\"gridcolor\":\"white\",\"gridwidth\":2,\"linecolor\":\"white\",\"showbackground\":true,\"ticks\":\"\",\"zerolinecolor\":\"white\"}},\"shapedefaults\":{\"line\":{\"color\":\"#2a3f5f\"}},\"ternary\":{\"aaxis\":{\"gridcolor\":\"white\",\"linecolor\":\"white\",\"ticks\":\"\"},\"baxis\":{\"gridcolor\":\"white\",\"linecolor\":\"white\",\"ticks\":\"\"},\"bgcolor\":\"#E5ECF6\",\"caxis\":{\"gridcolor\":\"white\",\"linecolor\":\"white\",\"ticks\":\"\"}},\"title\":{\"x\":0.05},\"xaxis\":{\"automargin\":true,\"gridcolor\":\"white\",\"linecolor\":\"white\",\"ticks\":\"\",\"title\":{\"standoff\":15},\"zerolinecolor\":\"white\",\"zerolinewidth\":2},\"yaxis\":{\"automargin\":true,\"gridcolor\":\"white\",\"linecolor\":\"white\",\"ticks\":\"\",\"title\":{\"standoff\":15},\"zerolinecolor\":\"white\",\"zerolinewidth\":2}}},\"xaxis\":{\"anchor\":\"y\",\"domain\":[0.0,1.0],\"title\":{\"text\":\"Porosity [-]\"}},\"yaxis\":{\"anchor\":\"x\",\"domain\":[0.0,1.0],\"title\":{\"text\":\"FSF < 2 mm [%]\"}},\"legend\":{\"title\":{\"text\":\"Location\"},\"tracegroupgap\":0,\"itemsizing\":\"constant\"},\"margin\":{\"t\":60}},                        {\"responsive\": true}                    ).then(function(){\n",
       "                            \n",
       "var gd = document.getElementById('98bb9a3e-3f7f-4af3-a02c-a8464edca52e');\n",
       "var x = new MutationObserver(function (mutations, observer) {{\n",
       "        var display = window.getComputedStyle(gd).display;\n",
       "        if (!display || display === 'none') {{\n",
       "            console.log([gd, 'removed!']);\n",
       "            Plotly.purge(gd);\n",
       "            observer.disconnect();\n",
       "        }}\n",
       "}});\n",
       "\n",
       "// Listen for the removal of the full notebook cells\n",
       "var notebookContainer = gd.closest('#notebook-container');\n",
       "if (notebookContainer) {{\n",
       "    x.observe(notebookContainer, {childList: true});\n",
       "}}\n",
       "\n",
       "// Listen for the clearing of the current output cell\n",
       "var outputEl = gd.closest('.output');\n",
       "if (outputEl) {{\n",
       "    x.observe(outputEl, {childList: true});\n",
       "}}\n",
       "\n",
       "                        })                };                });            </script>        </div>"
      ]
     },
     "metadata": {},
     "output_type": "display_data"
    }
   ],
   "source": [
    "px.scatter(df[df['Sample']=='FC'], x='Wooster et al. (2008) [Porosity]', \n",
    "           y='2', color='Location', \n",
    "           hover_data=['sample name'], \n",
    "           size='Mean Grain Size dm [mm]',\n",
    "           labels={'Wooster et al. (2008) [Porosity]':'Porosity [-]',\n",
    "                  '2': 'FSF < 2 mm [%]'})"
   ]
  },
  {
   "cell_type": "code",
   "execution_count": 3,
   "metadata": {},
   "outputs": [
    {
     "data": {
      "text/html": [
       "<div>\n",
       "<style scoped>\n",
       "    .dataframe tbody tr th:only-of-type {\n",
       "        vertical-align: middle;\n",
       "    }\n",
       "\n",
       "    .dataframe tbody tr th {\n",
       "        vertical-align: top;\n",
       "    }\n",
       "\n",
       "    .dataframe thead th {\n",
       "        text-align: right;\n",
       "    }\n",
       "</style>\n",
       "<table border=\"1\" class=\"dataframe\">\n",
       "  <thead>\n",
       "    <tr style=\"text-align: right;\">\n",
       "      <th></th>\n",
       "      <th>sample name</th>\n",
       "      <th>Campaign</th>\n",
       "      <th>Location</th>\n",
       "      <th>up or downstream</th>\n",
       "      <th>Sample</th>\n",
       "      <th>date</th>\n",
       "      <th>lat</th>\n",
       "      <th>lon</th>\n",
       "      <th>d10</th>\n",
       "      <th>d16</th>\n",
       "      <th>...</th>\n",
       "      <th>4</th>\n",
       "      <th>2</th>\n",
       "      <th>1</th>\n",
       "      <th>0.5</th>\n",
       "      <th>0.25</th>\n",
       "      <th>0.125</th>\n",
       "      <th>0.063</th>\n",
       "      <th>0.031</th>\n",
       "      <th>0.0039</th>\n",
       "      <th>6.00E-05</th>\n",
       "    </tr>\n",
       "  </thead>\n",
       "  <tbody>\n",
       "    <tr>\n",
       "      <th>0</th>\n",
       "      <td>FP-A AFTER</td>\n",
       "      <td>After</td>\n",
       "      <td>A</td>\n",
       "      <td>NaN</td>\n",
       "      <td>FP</td>\n",
       "      <td>09.02.2022</td>\n",
       "      <td>6155287.856</td>\n",
       "      <td>1464299.602</td>\n",
       "      <td>1.071429</td>\n",
       "      <td>4.110721</td>\n",
       "      <td>...</td>\n",
       "      <td>15.678733</td>\n",
       "      <td>11.764706</td>\n",
       "      <td>9.864253</td>\n",
       "      <td>9.027149</td>\n",
       "      <td>4.230769</td>\n",
       "      <td>1.470588</td>\n",
       "      <td>0.610860</td>\n",
       "      <td>0</td>\n",
       "      <td>0</td>\n",
       "      <td>0</td>\n",
       "    </tr>\n",
       "    <tr>\n",
       "      <th>1</th>\n",
       "      <td>FP-A BEFORE</td>\n",
       "      <td>Before</td>\n",
       "      <td>A</td>\n",
       "      <td>NaN</td>\n",
       "      <td>FP</td>\n",
       "      <td>02.02.2022</td>\n",
       "      <td>6155287.881</td>\n",
       "      <td>1464298.541</td>\n",
       "      <td>0.390109</td>\n",
       "      <td>1.266286</td>\n",
       "      <td>...</td>\n",
       "      <td>23.483933</td>\n",
       "      <td>20.343078</td>\n",
       "      <td>14.423774</td>\n",
       "      <td>12.442619</td>\n",
       "      <td>6.885721</td>\n",
       "      <td>3.624064</td>\n",
       "      <td>1.522107</td>\n",
       "      <td>0</td>\n",
       "      <td>0</td>\n",
       "      <td>0</td>\n",
       "    </tr>\n",
       "    <tr>\n",
       "      <th>2</th>\n",
       "      <td>FP-B AFTER</td>\n",
       "      <td>After</td>\n",
       "      <td>B</td>\n",
       "      <td>NaN</td>\n",
       "      <td>FP</td>\n",
       "      <td>09.02.2022</td>\n",
       "      <td>6155356.345</td>\n",
       "      <td>1464361.145</td>\n",
       "      <td>0.305014</td>\n",
       "      <td>0.392511</td>\n",
       "      <td>...</td>\n",
       "      <td>38.086078</td>\n",
       "      <td>31.113248</td>\n",
       "      <td>25.222409</td>\n",
       "      <td>23.371003</td>\n",
       "      <td>6.227459</td>\n",
       "      <td>1.202212</td>\n",
       "      <td>0.312575</td>\n",
       "      <td>0</td>\n",
       "      <td>0</td>\n",
       "      <td>0</td>\n",
       "    </tr>\n",
       "    <tr>\n",
       "      <th>3</th>\n",
       "      <td>FP-B BEFORE</td>\n",
       "      <td>Before</td>\n",
       "      <td>B</td>\n",
       "      <td>NaN</td>\n",
       "      <td>FP</td>\n",
       "      <td>02.02.2022</td>\n",
       "      <td>6155354.552</td>\n",
       "      <td>1464362.584</td>\n",
       "      <td>0.339377</td>\n",
       "      <td>0.479267</td>\n",
       "      <td>...</td>\n",
       "      <td>28.260016</td>\n",
       "      <td>25.589159</td>\n",
       "      <td>19.520817</td>\n",
       "      <td>16.889238</td>\n",
       "      <td>6.166536</td>\n",
       "      <td>3.024352</td>\n",
       "      <td>1.197958</td>\n",
       "      <td>0</td>\n",
       "      <td>0</td>\n",
       "      <td>0</td>\n",
       "    </tr>\n",
       "    <tr>\n",
       "      <th>4</th>\n",
       "      <td>FP-RP BEFORE</td>\n",
       "      <td>Before</td>\n",
       "      <td>RP</td>\n",
       "      <td>NaN</td>\n",
       "      <td>FP</td>\n",
       "      <td>31.01.2022</td>\n",
       "      <td>6155210.932</td>\n",
       "      <td>1464118.075</td>\n",
       "      <td>0.489188</td>\n",
       "      <td>1.081053</td>\n",
       "      <td>...</td>\n",
       "      <td>31.436348</td>\n",
       "      <td>22.912285</td>\n",
       "      <td>15.390325</td>\n",
       "      <td>10.293208</td>\n",
       "      <td>3.513547</td>\n",
       "      <td>1.905233</td>\n",
       "      <td>0.754670</td>\n",
       "      <td>0</td>\n",
       "      <td>0</td>\n",
       "      <td>0</td>\n",
       "    </tr>\n",
       "    <tr>\n",
       "      <th>5</th>\n",
       "      <td>FP-RP AFTER</td>\n",
       "      <td>After</td>\n",
       "      <td>RP</td>\n",
       "      <td>NaN</td>\n",
       "      <td>FP</td>\n",
       "      <td>07.02.2022</td>\n",
       "      <td>6155205.685</td>\n",
       "      <td>1464114.238</td>\n",
       "      <td>0.750980</td>\n",
       "      <td>1.525463</td>\n",
       "      <td>...</td>\n",
       "      <td>25.429711</td>\n",
       "      <td>19.306323</td>\n",
       "      <td>12.338858</td>\n",
       "      <td>7.642726</td>\n",
       "      <td>1.995089</td>\n",
       "      <td>0.951504</td>\n",
       "      <td>0.368324</td>\n",
       "      <td>0</td>\n",
       "      <td>0</td>\n",
       "      <td>0</td>\n",
       "    </tr>\n",
       "    <tr>\n",
       "      <th>6</th>\n",
       "      <td>FC-B1 BEFORE</td>\n",
       "      <td>Before</td>\n",
       "      <td>B</td>\n",
       "      <td>upstream</td>\n",
       "      <td>FC</td>\n",
       "      <td>01.02.2022</td>\n",
       "      <td>6155346.993</td>\n",
       "      <td>1464364.280</td>\n",
       "      <td>0.429156</td>\n",
       "      <td>2.092964</td>\n",
       "      <td>...</td>\n",
       "      <td>20.338069</td>\n",
       "      <td>15.788527</td>\n",
       "      <td>13.648624</td>\n",
       "      <td>12.084158</td>\n",
       "      <td>4.729365</td>\n",
       "      <td>1.366661</td>\n",
       "      <td>0.521489</td>\n",
       "      <td>0</td>\n",
       "      <td>0</td>\n",
       "      <td>0</td>\n",
       "    </tr>\n",
       "    <tr>\n",
       "      <th>7</th>\n",
       "      <td>FC-B2 AFTER</td>\n",
       "      <td>After</td>\n",
       "      <td>B</td>\n",
       "      <td>downstream</td>\n",
       "      <td>FC</td>\n",
       "      <td>08.02.2022</td>\n",
       "      <td>6155354.290</td>\n",
       "      <td>1464362.121</td>\n",
       "      <td>0.349231</td>\n",
       "      <td>0.481462</td>\n",
       "      <td>...</td>\n",
       "      <td>23.080279</td>\n",
       "      <td>19.655323</td>\n",
       "      <td>18.084642</td>\n",
       "      <td>16.841187</td>\n",
       "      <td>5.497382</td>\n",
       "      <td>1.679756</td>\n",
       "      <td>0.676265</td>\n",
       "      <td>0</td>\n",
       "      <td>0</td>\n",
       "      <td>0</td>\n",
       "    </tr>\n",
       "    <tr>\n",
       "      <th>8</th>\n",
       "      <td>FC-B2 BEFORE</td>\n",
       "      <td>Before</td>\n",
       "      <td>B</td>\n",
       "      <td>downstream</td>\n",
       "      <td>FC</td>\n",
       "      <td>01.02.2022</td>\n",
       "      <td>6155353.451</td>\n",
       "      <td>1464362.749</td>\n",
       "      <td>0.350768</td>\n",
       "      <td>0.840204</td>\n",
       "      <td>...</td>\n",
       "      <td>23.406516</td>\n",
       "      <td>18.679178</td>\n",
       "      <td>16.554533</td>\n",
       "      <td>14.819405</td>\n",
       "      <td>6.745751</td>\n",
       "      <td>2.213173</td>\n",
       "      <td>0.938385</td>\n",
       "      <td>0</td>\n",
       "      <td>0</td>\n",
       "      <td>0</td>\n",
       "    </tr>\n",
       "    <tr>\n",
       "      <th>9</th>\n",
       "      <td>FC-RP BEFORE</td>\n",
       "      <td>Before</td>\n",
       "      <td>RP</td>\n",
       "      <td>NaN</td>\n",
       "      <td>FC</td>\n",
       "      <td>01.02.2022</td>\n",
       "      <td>6155209.526</td>\n",
       "      <td>1464116.977</td>\n",
       "      <td>0.409416</td>\n",
       "      <td>0.796388</td>\n",
       "      <td>...</td>\n",
       "      <td>30.648550</td>\n",
       "      <td>29.317832</td>\n",
       "      <td>17.705561</td>\n",
       "      <td>13.517299</td>\n",
       "      <td>3.810057</td>\n",
       "      <td>0.938507</td>\n",
       "      <td>0.420227</td>\n",
       "      <td>0</td>\n",
       "      <td>0</td>\n",
       "      <td>0</td>\n",
       "    </tr>\n",
       "    <tr>\n",
       "      <th>10</th>\n",
       "      <td>FC-RP AFTER</td>\n",
       "      <td>After</td>\n",
       "      <td>RP</td>\n",
       "      <td>NaN</td>\n",
       "      <td>FC</td>\n",
       "      <td>08.02.2022</td>\n",
       "      <td>6155204.529</td>\n",
       "      <td>1464113.713</td>\n",
       "      <td>0.355104</td>\n",
       "      <td>0.487848</td>\n",
       "      <td>...</td>\n",
       "      <td>29.382511</td>\n",
       "      <td>22.668877</td>\n",
       "      <td>19.491642</td>\n",
       "      <td>16.549247</td>\n",
       "      <td>5.249344</td>\n",
       "      <td>1.215638</td>\n",
       "      <td>0.524934</td>\n",
       "      <td>0</td>\n",
       "      <td>0</td>\n",
       "      <td>0</td>\n",
       "    </tr>\n",
       "    <tr>\n",
       "      <th>11</th>\n",
       "      <td>FC-A1 BEFORE</td>\n",
       "      <td>Before</td>\n",
       "      <td>A</td>\n",
       "      <td>upstream</td>\n",
       "      <td>FC</td>\n",
       "      <td>01.02.2022</td>\n",
       "      <td>6155287.977</td>\n",
       "      <td>1464290.925</td>\n",
       "      <td>0.137799</td>\n",
       "      <td>0.211962</td>\n",
       "      <td>...</td>\n",
       "      <td>36.099919</td>\n",
       "      <td>31.970185</td>\n",
       "      <td>29.754230</td>\n",
       "      <td>26.732474</td>\n",
       "      <td>19.077357</td>\n",
       "      <td>8.964545</td>\n",
       "      <td>3.565673</td>\n",
       "      <td>0</td>\n",
       "      <td>0</td>\n",
       "      <td>0</td>\n",
       "    </tr>\n",
       "    <tr>\n",
       "      <th>12</th>\n",
       "      <td>FC-A2 BEFORE</td>\n",
       "      <td>Before</td>\n",
       "      <td>A</td>\n",
       "      <td>downstream</td>\n",
       "      <td>FC</td>\n",
       "      <td>01.02.2022</td>\n",
       "      <td>6155287.829</td>\n",
       "      <td>1464297.447</td>\n",
       "      <td>0.124430</td>\n",
       "      <td>0.190572</td>\n",
       "      <td>...</td>\n",
       "      <td>41.414687</td>\n",
       "      <td>37.185025</td>\n",
       "      <td>34.539237</td>\n",
       "      <td>31.641469</td>\n",
       "      <td>21.382289</td>\n",
       "      <td>10.061195</td>\n",
       "      <td>3.401728</td>\n",
       "      <td>0</td>\n",
       "      <td>0</td>\n",
       "      <td>0</td>\n",
       "    </tr>\n",
       "    <tr>\n",
       "      <th>13</th>\n",
       "      <td>FC-B1 AFTER</td>\n",
       "      <td>After</td>\n",
       "      <td>B</td>\n",
       "      <td>upstream</td>\n",
       "      <td>FC</td>\n",
       "      <td>08.02.2022</td>\n",
       "      <td>6155347.502</td>\n",
       "      <td>1464364.217</td>\n",
       "      <td>0.432173</td>\n",
       "      <td>1.852903</td>\n",
       "      <td>...</td>\n",
       "      <td>21.270372</td>\n",
       "      <td>16.381112</td>\n",
       "      <td>13.790221</td>\n",
       "      <td>12.035102</td>\n",
       "      <td>4.534058</td>\n",
       "      <td>1.567071</td>\n",
       "      <td>0.689511</td>\n",
       "      <td>0</td>\n",
       "      <td>0</td>\n",
       "      <td>0</td>\n",
       "    </tr>\n",
       "    <tr>\n",
       "      <th>14</th>\n",
       "      <td>FC-A1 AFTER</td>\n",
       "      <td>After</td>\n",
       "      <td>A</td>\n",
       "      <td>upstream</td>\n",
       "      <td>FC</td>\n",
       "      <td>08.02.2022</td>\n",
       "      <td>6155287.388</td>\n",
       "      <td>1464290.071</td>\n",
       "      <td>0.240946</td>\n",
       "      <td>0.403214</td>\n",
       "      <td>...</td>\n",
       "      <td>29.213688</td>\n",
       "      <td>24.317437</td>\n",
       "      <td>21.951220</td>\n",
       "      <td>19.530397</td>\n",
       "      <td>10.411358</td>\n",
       "      <td>4.732435</td>\n",
       "      <td>1.801966</td>\n",
       "      <td>0</td>\n",
       "      <td>0</td>\n",
       "      <td>0</td>\n",
       "    </tr>\n",
       "    <tr>\n",
       "      <th>15</th>\n",
       "      <td>FC-A2 AFTER</td>\n",
       "      <td>After</td>\n",
       "      <td>A</td>\n",
       "      <td>downstream</td>\n",
       "      <td>FC</td>\n",
       "      <td>08.02.2022</td>\n",
       "      <td>6155288.023</td>\n",
       "      <td>1464298.002</td>\n",
       "      <td>0.124554</td>\n",
       "      <td>0.211574</td>\n",
       "      <td>...</td>\n",
       "      <td>37.743042</td>\n",
       "      <td>32.844072</td>\n",
       "      <td>30.175372</td>\n",
       "      <td>27.258864</td>\n",
       "      <td>18.642775</td>\n",
       "      <td>10.045749</td>\n",
       "      <td>3.678994</td>\n",
       "      <td>0</td>\n",
       "      <td>0</td>\n",
       "      <td>0</td>\n",
       "    </tr>\n",
       "  </tbody>\n",
       "</table>\n",
       "<p>16 rows × 51 columns</p>\n",
       "</div>"
      ],
      "text/plain": [
       "     sample name Campaign Location up or downstream Sample        date  \\\n",
       "0     FP-A AFTER    After        A              NaN     FP  09.02.2022   \n",
       "1    FP-A BEFORE   Before        A              NaN     FP  02.02.2022   \n",
       "2     FP-B AFTER    After        B              NaN     FP  09.02.2022   \n",
       "3    FP-B BEFORE   Before        B              NaN     FP  02.02.2022   \n",
       "4   FP-RP BEFORE   Before       RP              NaN     FP  31.01.2022   \n",
       "5    FP-RP AFTER    After       RP              NaN     FP  07.02.2022   \n",
       "6   FC-B1 BEFORE   Before        B         upstream     FC  01.02.2022   \n",
       "7    FC-B2 AFTER    After        B       downstream     FC  08.02.2022   \n",
       "8   FC-B2 BEFORE   Before        B       downstream     FC  01.02.2022   \n",
       "9   FC-RP BEFORE   Before       RP              NaN     FC  01.02.2022   \n",
       "10   FC-RP AFTER    After       RP              NaN     FC  08.02.2022   \n",
       "11  FC-A1 BEFORE   Before        A         upstream     FC  01.02.2022   \n",
       "12  FC-A2 BEFORE   Before        A       downstream     FC  01.02.2022   \n",
       "13   FC-B1 AFTER    After        B         upstream     FC  08.02.2022   \n",
       "14   FC-A1 AFTER    After        A         upstream     FC  08.02.2022   \n",
       "15   FC-A2 AFTER    After        A       downstream     FC  08.02.2022   \n",
       "\n",
       "            lat          lon       d10       d16  ...          4          2  \\\n",
       "0   6155287.856  1464299.602  1.071429  4.110721  ...  15.678733  11.764706   \n",
       "1   6155287.881  1464298.541  0.390109  1.266286  ...  23.483933  20.343078   \n",
       "2   6155356.345  1464361.145  0.305014  0.392511  ...  38.086078  31.113248   \n",
       "3   6155354.552  1464362.584  0.339377  0.479267  ...  28.260016  25.589159   \n",
       "4   6155210.932  1464118.075  0.489188  1.081053  ...  31.436348  22.912285   \n",
       "5   6155205.685  1464114.238  0.750980  1.525463  ...  25.429711  19.306323   \n",
       "6   6155346.993  1464364.280  0.429156  2.092964  ...  20.338069  15.788527   \n",
       "7   6155354.290  1464362.121  0.349231  0.481462  ...  23.080279  19.655323   \n",
       "8   6155353.451  1464362.749  0.350768  0.840204  ...  23.406516  18.679178   \n",
       "9   6155209.526  1464116.977  0.409416  0.796388  ...  30.648550  29.317832   \n",
       "10  6155204.529  1464113.713  0.355104  0.487848  ...  29.382511  22.668877   \n",
       "11  6155287.977  1464290.925  0.137799  0.211962  ...  36.099919  31.970185   \n",
       "12  6155287.829  1464297.447  0.124430  0.190572  ...  41.414687  37.185025   \n",
       "13  6155347.502  1464364.217  0.432173  1.852903  ...  21.270372  16.381112   \n",
       "14  6155287.388  1464290.071  0.240946  0.403214  ...  29.213688  24.317437   \n",
       "15  6155288.023  1464298.002  0.124554  0.211574  ...  37.743042  32.844072   \n",
       "\n",
       "            1        0.5       0.25      0.125     0.063  0.031  0.0039  \\\n",
       "0    9.864253   9.027149   4.230769   1.470588  0.610860      0       0   \n",
       "1   14.423774  12.442619   6.885721   3.624064  1.522107      0       0   \n",
       "2   25.222409  23.371003   6.227459   1.202212  0.312575      0       0   \n",
       "3   19.520817  16.889238   6.166536   3.024352  1.197958      0       0   \n",
       "4   15.390325  10.293208   3.513547   1.905233  0.754670      0       0   \n",
       "5   12.338858   7.642726   1.995089   0.951504  0.368324      0       0   \n",
       "6   13.648624  12.084158   4.729365   1.366661  0.521489      0       0   \n",
       "7   18.084642  16.841187   5.497382   1.679756  0.676265      0       0   \n",
       "8   16.554533  14.819405   6.745751   2.213173  0.938385      0       0   \n",
       "9   17.705561  13.517299   3.810057   0.938507  0.420227      0       0   \n",
       "10  19.491642  16.549247   5.249344   1.215638  0.524934      0       0   \n",
       "11  29.754230  26.732474  19.077357   8.964545  3.565673      0       0   \n",
       "12  34.539237  31.641469  21.382289  10.061195  3.401728      0       0   \n",
       "13  13.790221  12.035102   4.534058   1.567071  0.689511      0       0   \n",
       "14  21.951220  19.530397  10.411358   4.732435  1.801966      0       0   \n",
       "15  30.175372  27.258864  18.642775  10.045749  3.678994      0       0   \n",
       "\n",
       "    6.00E-05  \n",
       "0          0  \n",
       "1          0  \n",
       "2          0  \n",
       "3          0  \n",
       "4          0  \n",
       "5          0  \n",
       "6          0  \n",
       "7          0  \n",
       "8          0  \n",
       "9          0  \n",
       "10         0  \n",
       "11         0  \n",
       "12         0  \n",
       "13         0  \n",
       "14         0  \n",
       "15         0  \n",
       "\n",
       "[16 rows x 51 columns]"
      ]
     },
     "execution_count": 3,
     "metadata": {},
     "output_type": "execute_result"
    }
   ],
   "source": [
    "df"
   ]
  },
  {
   "cell_type": "code",
   "execution_count": 49,
   "metadata": {},
   "outputs": [
    {
     "data": {
      "image/png": "[encoded data removed]",
      "text/plain": [
       "<Figure size 360x288 with 1 Axes>"
      ]
     },
     "metadata": {},
     "output_type": "display_data"
    }
   ],
   "source": [
    "df = df[df['Location']!='RP']\n",
    "df_fc = df[df['Sample']=='FC']\n",
    "fig, ax = plt.subplots(figsize=(5,4))\n",
    "sns.set_theme(style=\"whitegrid\", font_scale=1.7, font='arial')\n",
    "my_pal = {\"A\": \"white\", \"B\": \"black\"}\n",
    "sns_fig = sns.scatterplot(data=df_fc, y = \"1\",\n",
    "              x = \"Wooster et al. (2008) [Porosity]\", hue='Location', s=100, ax=ax, marker='o',edgecolor='black', palette=my_pal)\n",
    "\n",
    "df_fp = df[df['Sample']=='FP']\n",
    "sns_fig = sns.scatterplot(data=df_fp, y = \"1\",\n",
    "              x = \"Wooster et al. (2008) [Porosity]\", hue='Location', s=100, ax=ax, marker='v',edgecolor='black', palette=my_pal)\n",
    "\n",
    "plt.ylim([0, 40])\n",
    "plt.xlim([0, 0.25])\n",
    "sns_fig.legend_.remove()\n",
    "plt.savefig('fp_fc-results.png', dpi=300)"
   ]
  },
  {
   "cell_type": "code",
   "execution_count": null,
   "metadata": {},
   "outputs": [],
   "source": []
  }
 ],
 "metadata": {
  "kernelspec": {
   "display_name": "Python 3 (ipykernel)",
   "language": "python",
   "name": "python3"
  },
  "language_info": {
   "codemirror_mode": {
    "name": "ipython",
    "version": 3
   },
   "file_extension": ".py",
   "mimetype": "text/x-python",
   "name": "python",
   "nbconvert_exporter": "python",
   "pygments_lexer": "ipython3",
   "version": "3.9.7"
  }
 },
 "nbformat": 4,
 "nbformat_minor": 4
}
